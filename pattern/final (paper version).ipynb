{
 "cells": [
  {
   "cell_type": "code",
   "execution_count": 107,
   "metadata": {},
   "outputs": [],
   "source": [
    "import numpy as np\n",
    "import sympy as sp"
   ]
  },
  {
   "cell_type": "code",
   "execution_count": 108,
   "metadata": {},
   "outputs": [],
   "source": [
    "# function to check if mask with ith cell dotted matches jth cell of sub\n",
    "def doesMatch(mask, i, sub, j):\n",
    "    m = len(mask)\n",
    "    s = len(sub)\n",
    "    if (i < 0 or j < 0 or j < i or j - i + m > s or i >= m or j >= s):\n",
    "        print(mask, \": \", i, j, m, s, \"#\", i < 0, j < 0, j < i, j - i + m >= s, i >= m, j >= s)\n",
    "        #print(sub)\n",
    "        return 0\n",
    "    else:\n",
    "        if (mask == sub[j - i: j - i + m]):\n",
    "            return 1\n",
    "        else:\n",
    "            return 0\n"
   ]
  },
  {
   "cell_type": "code",
   "execution_count": 109,
   "metadata": {},
   "outputs": [
    {
     "data": {
      "text/plain": [
       "0"
      ]
     },
     "execution_count": 109,
     "metadata": {},
     "output_type": "execute_result"
    }
   ],
   "source": [
    "# test\n",
    "doesMatch(\"0\", 0, \"0011\", 2)"
   ]
  },
  {
   "cell_type": "code",
   "execution_count": 110,
   "metadata": {},
   "outputs": [],
   "source": [
    "# function to decide if a cell is able to switch its strategy regarding transition rules\n",
    "def decideIfTheCellCanFlip(left, center, right, transition_rules):\n",
    "    n = transition_rules.shape[0]\n",
    "    for i in range(n):\n",
    "        if (transition_rules[i][0][0] == left and transition_rules[i][0][1] == center and transition_rules[i][0][2] == right and transition_rules[i][1][0] != center):\n",
    "            return True\n",
    "    return False"
   ]
  },
  {
   "cell_type": "code",
   "execution_count": 111,
   "metadata": {},
   "outputs": [],
   "source": [
    "# general function to calculate probability of conversion of sub-config A to B regarding certain transition rules\n",
    "def generalCalcProb(A, B, transition_rules = np.array([(\"000\", \"1\"), (\"001\", \"1\"), (\"011\", \"0\"), (\"100\", \"1\"), (\"110\", \"0\"), (\"111\", \"0\")])):\n",
    "    a = len(A)\n",
    "    b = len(B)\n",
    "    if (a != b or A[0] != B[0] or A[a - 1] != B[b - 1]):\n",
    "        return 0\n",
    "    r, p = sp.symbols(\"r p\")\n",
    "    r = 1\n",
    "    for i in range(1, a - 1):    # ignoring first and last cell\n",
    "        if (A[i] == B[i]):    # must remain on its strategy\n",
    "            if (decideIfTheCellCanFlip(A[i - 1], A[i], A[i + 1], transition_rules)):    # checking if the ith cell can flip\n",
    "                r *= (1 - p)\n",
    "            else:\n",
    "                r *= 1\n",
    "        else:\n",
    "            if (decideIfTheCellCanFlip(A[i - 1], A[i], A[i + 1], transition_rules)):\n",
    "                r *= p\n",
    "            else:\n",
    "                return 0\n",
    "    return r\n"
   ]
  },
  {
   "cell_type": "code",
   "execution_count": 112,
   "metadata": {},
   "outputs": [
    {
     "name": "stdout",
     "output_type": "stream",
     "text": [
      "p*(1 - p)**3\n"
     ]
    }
   ],
   "source": [
    "# test\n",
    "print(generalCalcProb(\"011110\", \"010110\"))"
   ]
  },
  {
   "cell_type": "code",
   "execution_count": 113,
   "metadata": {},
   "outputs": [],
   "source": [
    "def generateAllBinaryStrings(length):\n",
    "    arr = [\"\"] * 2 ** length\n",
    "    form = '#0' + str(length + 2) + 'b'\n",
    "    for i in range(2 ** length):\n",
    "        arr[i] = format(i, form)[2:]\n",
    "    return np.array(arr)\n"
   ]
  },
  {
   "cell_type": "code",
   "execution_count": 114,
   "metadata": {},
   "outputs": [
    {
     "name": "stdout",
     "output_type": "stream",
     "text": [
      "['000' '001' '010' '011' '100' '101' '110' '111']\n"
     ]
    }
   ],
   "source": [
    "# test\n",
    "print(generateAllBinaryStrings(3))"
   ]
  },
  {
   "cell_type": "code",
   "execution_count": 116,
   "metadata": {},
   "outputs": [],
   "source": [
    "# function to calculate the expected difference of number of a list of patterns in a sub-config\n",
    "def calcExpectedDifference(patterns, sub_config, dot_index, transition_rules = np.array([(\"000\", \"1\"), (\"001\", \"1\"), (\"011\", \"0\"), (\"100\", \"1\"), (\"110\", \"0\"), (\"111\", \"0\")])):\n",
    "    # patterns_max_length = np.max([len(i) for i in patterns[:, 0]])\n",
    "    k = len(sub_config) - 2\n",
    "    n = 2 ** k\n",
    "    binary_strings = generateAllBinaryStrings(k)\n",
    "    number_of_patterns = patterns.shape[0]\n",
    "    expected_variation = [0] * number_of_patterns\n",
    "    for j in range(number_of_patterns):\n",
    "        #\n",
    "        total_expectation = 0\n",
    "        current_number_of_occurrence = doesMatch(patterns[j][0], int(patterns[j][1]), sub_config[1:-1], dot_index - 1)\n",
    "        for i in range(n):\n",
    "            total_expectation += generalCalcProb(sub_config, sub_config[0] + binary_strings[i] + sub_config[-1], transition_rules) * (doesMatch(patterns[j][0], int(patterns[j][1]), binary_strings[i], dot_index - 1) - current_number_of_occurrence)\n",
    "        #\n",
    "        expected_variation[j] = total_expectation\n",
    "    return np.array(expected_variation)\n"
   ]
  },
  {
   "cell_type": "code",
   "execution_count": 117,
   "metadata": {},
   "outputs": [],
   "source": [
    "# test\n",
    "pats = np.array([[\"0\", 0], [\"11\", 1], [\"01\", 1]])\n",
    "tr = np.array([(\"010\", \"0\"), (\"011\", \"0\")])\n",
    "x = calcExpectedDifference(pats, \"0011\", 2)"
   ]
  },
  {
   "cell_type": "code",
   "execution_count": 118,
   "metadata": {},
   "outputs": [
    {
     "data": {
      "text/plain": [
       "array([p**2 + p*(1 - p), p*(1 - p), -p**2 - 2*p*(1 - p)], dtype=object)"
      ]
     },
     "execution_count": 118,
     "metadata": {},
     "output_type": "execute_result"
    }
   ],
   "source": [
    "x"
   ]
  }
 ],
 "metadata": {
  "kernelspec": {
   "display_name": "Python 3",
   "language": "python",
   "name": "python3"
  },
  "language_info": {
   "codemirror_mode": {
    "name": "ipython",
    "version": 3
   },
   "file_extension": ".py",
   "mimetype": "text/x-python",
   "name": "python",
   "nbconvert_exporter": "python",
   "pygments_lexer": "ipython3",
   "version": "3.9.13"
  },
  "orig_nbformat": 4,
  "vscode": {
   "interpreter": {
    "hash": "b2b4b3e20a59bbd542fb0c9d108ffad78ee7f3ee5b86844fb3b71a43ea545da1"
   }
  }
 },
 "nbformat": 4,
 "nbformat_minor": 2
}
