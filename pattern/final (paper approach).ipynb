{
 "cells": [
  {
   "cell_type": "code",
   "execution_count": 2,
   "metadata": {},
   "outputs": [],
   "source": [
    "import numpy as np\n",
    "import sympy as sp"
   ]
  },
  {
   "cell_type": "code",
   "execution_count": 3,
   "metadata": {},
   "outputs": [],
   "source": [
    "labels = {\n",
    "    'A': (\"000\", \"1\"),\n",
    "    'B': (\"001\", \"1\"),\n",
    "    'C': (\"100\", \"1\"),\n",
    "    'D': (\"101\", \"1\"),\n",
    "    'E': (\"010\", \"0\"),\n",
    "    'F': (\"011\", \"0\"),\n",
    "    'G': (\"110\", \"0\"),\n",
    "    'H': (\"111\", \"0\")\n",
    "}"
   ]
  },
  {
   "cell_type": "code",
   "execution_count": 4,
   "metadata": {},
   "outputs": [
    {
     "data": {
      "text/plain": [
       "('000', '1')"
      ]
     },
     "execution_count": 4,
     "metadata": {},
     "output_type": "execute_result"
    }
   ],
   "source": [
    "# test\n",
    "labels['A']"
   ]
  },
  {
   "cell_type": "code",
   "execution_count": 5,
   "metadata": {},
   "outputs": [],
   "source": [
    "# function to check if mask with ith cell dotted matches jth cell of sub\n",
    "def doesMatch(mask, i, sub, j):\n",
    "    m = len(mask)\n",
    "    s = len(sub)\n",
    "    if (i < 0 or j < 0 or j < i or j - i + m > s or i >= m or j >= s):\n",
    "        # print(mask, \": \", i, j, m, s, \"#\", i < 0, j < 0, j < i, j - i + m >= s, i >= m, j >= s)\n",
    "        # print(sub)\n",
    "        return 0\n",
    "    else:\n",
    "        if (mask == sub[j - i: j - i + m]):\n",
    "            return 1\n",
    "        else:\n",
    "            return 0\n"
   ]
  },
  {
   "cell_type": "code",
   "execution_count": 6,
   "metadata": {},
   "outputs": [
    {
     "data": {
      "text/plain": [
       "1"
      ]
     },
     "execution_count": 6,
     "metadata": {},
     "output_type": "execute_result"
    }
   ],
   "source": [
    "# test\n",
    "doesMatch(\"01\", 0, \"010100011\", 6)"
   ]
  },
  {
   "cell_type": "code",
   "execution_count": 7,
   "metadata": {},
   "outputs": [],
   "source": [
    "# function to decide if a cell is able to switch its strategy regarding transition rules\n",
    "def canCellFlip(left, center, right, transition_rules):\n",
    "    n = transition_rules.shape[0]\n",
    "    for i in range(n):\n",
    "        if (transition_rules[i][0][0] == left and transition_rules[i][0][1] == center and transition_rules[i][0][2] == right and transition_rules[i][1][0] != center):\n",
    "            return 1\n",
    "    return 0"
   ]
  },
  {
   "cell_type": "code",
   "execution_count": 8,
   "metadata": {},
   "outputs": [
    {
     "data": {
      "text/plain": [
       "'0'"
      ]
     },
     "execution_count": 8,
     "metadata": {},
     "output_type": "execute_result"
    }
   ],
   "source": [
    "m = \"0\"\n",
    "m[2 % len(m)]\n",
    "#print(canCellFlip(m[-2], m[0], m[0], np.array([labels['E'], labels['F']])))"
   ]
  },
  {
   "cell_type": "code",
   "execution_count": 9,
   "metadata": {},
   "outputs": [
    {
     "data": {
      "text/plain": [
       "'\\ndef calcProb(u, i, v, j, transition_rules):\\n    r, p = sp.symbols(\"r p\")\\n    len_u = len(u)\\n    len_v = len(v)\\n    \\n\\n\\n# consider at step t, a cell matches mask current_pattern. function to calculate the probability of\\n# the cell matches all masks patterns at the step t+1\\n\\ndef getProbMatchingNewMask(current_pattern, patterns, transition_rules):\\n    number_of_patterns = patterns.shape[0]\\n    probs = [0] * number_of_patterns\\n    r, p = sp.symbols(\"r p\")\\n    for i in range(number_of_patterns):\\n        \\n    return np.array(probs)\\n'"
      ]
     },
     "execution_count": 9,
     "metadata": {},
     "output_type": "execute_result"
    }
   ],
   "source": [
    "'''\n",
    "def calcProb(u, i, v, j, transition_rules):\n",
    "    r, p = sp.symbols(\"r p\")\n",
    "    len_u = len(u)\n",
    "    len_v = len(v)\n",
    "    \n",
    "\n",
    "\n",
    "# consider at step t, a cell matches mask current_pattern. function to calculate the probability of\n",
    "# the cell matches all masks patterns at the step t+1\n",
    "\n",
    "def getProbMatchingNewMask(current_pattern, patterns, transition_rules):\n",
    "    number_of_patterns = patterns.shape[0]\n",
    "    probs = [0] * number_of_patterns\n",
    "    r, p = sp.symbols(\"r p\")\n",
    "    for i in range(number_of_patterns):\n",
    "        \n",
    "    return np.array(probs)\n",
    "'''"
   ]
  },
  {
   "cell_type": "code",
   "execution_count": 10,
   "metadata": {},
   "outputs": [],
   "source": [
    "# general function to calculate probability of conversion of sub-config A to B regarding certain transition rules\n",
    "def generalCalcProb(A, B, transition_rules = np.array([labels['A'], labels['B'], labels['F'], labels['C'], labels['G'], labels['H']])):\n",
    "    a = len(A)\n",
    "    b = len(B)\n",
    "    if (a != b or A[0] != B[0] or A[a - 1] != B[b - 1]):\n",
    "        return 0\n",
    "    r, p = sp.symbols(\"r p\")\n",
    "    r = 1\n",
    "    for i in range(1, a - 1):    # ignoring first and last cell\n",
    "        if (A[i] == B[i]):    # must remain on its strategy\n",
    "            if (canCellFlip(A[i - 1], A[i], A[i + 1], transition_rules)):    # checking if the ith cell can flip\n",
    "                r *= (1 - p)\n",
    "            else:\n",
    "                r *= 1\n",
    "        else:\n",
    "            if (canCellFlip(A[i - 1], A[i], A[i + 1], transition_rules)):\n",
    "                r *= p\n",
    "            else:\n",
    "                return 0\n",
    "    return r\n"
   ]
  },
  {
   "cell_type": "code",
   "execution_count": 11,
   "metadata": {},
   "outputs": [
    {
     "name": "stdout",
     "output_type": "stream",
     "text": [
      "p*(1 - p)**3\n"
     ]
    }
   ],
   "source": [
    "# test\n",
    "print(generalCalcProb(\"011110\", \"010110\"))"
   ]
  },
  {
   "cell_type": "code",
   "execution_count": 12,
   "metadata": {},
   "outputs": [],
   "source": [
    "def generateAllBinaryStrings(length):\n",
    "    arr = [\"\"] * 2 ** length\n",
    "    form = '#0' + str(length + 2) + 'b'\n",
    "    for i in range(2 ** length):\n",
    "        arr[i] = format(i, form)[2:]\n",
    "    return np.array(arr)\n"
   ]
  },
  {
   "cell_type": "code",
   "execution_count": 13,
   "metadata": {},
   "outputs": [
    {
     "name": "stdout",
     "output_type": "stream",
     "text": [
      "['000' '001' '010' '011' '100' '101' '110' '111']\n"
     ]
    }
   ],
   "source": [
    "# test\n",
    "print(generateAllBinaryStrings(3))"
   ]
  },
  {
   "cell_type": "code",
   "execution_count": 14,
   "metadata": {},
   "outputs": [],
   "source": [
    "# function to calculate the expected difference of number of a list of patterns in a sub-config\n",
    "def calcExpectedDifference(patterns, sub_config, dot_index, transition_rules = np.array([labels['A'], labels['B'], labels['F'], labels['C'], labels['G'], labels['H']])):\n",
    "    # patterns_max_length = np.max([len(i) for i in patterns[:, 0]])\n",
    "    k = len(sub_config) - 2\n",
    "    n = 2 ** k\n",
    "    binary_strings = generateAllBinaryStrings(k)\n",
    "    number_of_patterns = patterns.shape[0]\n",
    "    expected_variation = [0] * number_of_patterns\n",
    "    for j in range(number_of_patterns):\n",
    "        #\n",
    "        total_expectation = 0\n",
    "        current_number_of_occurrence = doesMatch(patterns[j][0], int(patterns[j][1]), sub_config[1:-1], dot_index - 1)\n",
    "        for i in range(n):\n",
    "            total_expectation += generalCalcProb(sub_config, sub_config[0] + binary_strings[i] + sub_config[-1], transition_rules) * (doesMatch(patterns[j][0], int(patterns[j][1]), binary_strings[i], dot_index - 1) - current_number_of_occurrence)\n",
    "        #\n",
    "        expected_variation[j] = total_expectation\n",
    "    return np.array(expected_variation)\n"
   ]
  },
  {
   "cell_type": "code",
   "execution_count": 15,
   "metadata": {},
   "outputs": [
    {
     "data": {
      "text/plain": [
       "array([-p**3 - 3*p**2*(1 - p) - 3*p*(1 - p)**2], dtype=object)"
      ]
     },
     "execution_count": 15,
     "metadata": {},
     "output_type": "execute_result"
    }
   ],
   "source": [
    "# test\n",
    "pats = np.array([[\"001\", 1]])\n",
    "calcExpectedDifference(pats, \"00011\", 2)"
   ]
  },
  {
   "cell_type": "code",
   "execution_count": 16,
   "metadata": {},
   "outputs": [
    {
     "name": "stdout",
     "output_type": "stream",
     "text": [
      "0000 [0 0 0]\n",
      "0001 [0 0 0]\n",
      "0010 [p 0 -p]\n",
      "0011 [p 0 -p]\n",
      "0100 [0 0 0]\n",
      "0101 [0 0 0]\n",
      "0110 [0 -p p]\n",
      "0111 [0 -p p]\n",
      "1000 [0 0 0]\n",
      "1001 [0 0 0]\n",
      "1010 [p 0 -p]\n",
      "1011 [p 0 -p]\n",
      "1100 [0 0 0]\n",
      "1101 [0 0 0]\n",
      "1110 [0 0 0]\n",
      "1111 [0 0 0]\n"
     ]
    }
   ],
   "source": [
    "# test\n",
    "pats = np.array([[\"0\", 0], [\"11\", 1], [\"01\", 1]])\n",
    "tr = np.array([labels['E'], labels['F']])\n",
    "subs = generateAllBinaryStrings(4)\n",
    "for i in subs:\n",
    "    x = calcExpectedDifference(pats, i, 2, tr)\n",
    "    print(i, x)"
   ]
  },
  {
   "cell_type": "code",
   "execution_count": 17,
   "metadata": {},
   "outputs": [
    {
     "name": "stdout",
     "output_type": "stream",
     "text": [
      "000000 [0 0 0 0 0 0 0 0 0 0]\n",
      "000001 [0 0 0 0 0 0 0 0 0 0]\n",
      "000010 [0 0 0 0 0 -p**2 - p*(1 - p) p**2 p*(1 - p) 0 0]\n",
      "000011 [0 0 0 0 0 -p**2 - p*(1 - p) p**2 p*(1 - p) 0 0]\n",
      "000100 [0 0 0 0 0 p*(1 - p) -p**2 - 2*p*(1 - p) 0 0 0]\n",
      "000101 [0 0 0 0 0 p*(1 - p) -p**2 - 2*p*(1 - p) 0 0 0]\n",
      "000110 [0 0 0 0 0 p*(1 - p) 0 -p**2 - 2*p*(1 - p) 0 0]\n",
      "000111 [0 0 0 0 0 p*(1 - p) 0 -p**2 - 2*p*(1 - p) 0 0]\n",
      "001000 [0 0 0 0 p*(1 - p) p**2 + p*(1 - p) 0 0 0 0]\n",
      "001001 [0 0 0 0 p**2*(1 - p) + p*(1 - p)**2 p**3 + 2*p**2*(1 - p) + p*(1 - p)**2\n",
      " 0 0 0 0]\n",
      "001010 [0 0 0 0 p**2*(1 - p) + p*(1 - p)**2 p**3 + 2*p**2*(1 - p) + p*(1 - p)**2\n",
      " 0 0 0 0]\n",
      "001011 [0 0 0 0 p**2*(1 - p) + p*(1 - p)**2 p**3 + 2*p**2*(1 - p) + p*(1 - p)**2\n",
      " 0 0 0 0]\n",
      "001100 [0 0 0 0 p*(1 - p) 0 p*(1 - p) 0 0 0]\n",
      "001101 [0 0 0 0 p*(1 - p) 0 p*(1 - p) 0 0 0]\n",
      "001110 [0 0 0 0 p*(1 - p) 0 0 p*(1 - p) 0 0]\n",
      "001111 [0 0 0 0 p*(1 - p) 0 0 p*(1 - p) 0 0]\n",
      "010000 [0 0 0 0 0 0 0 0 0 0]\n",
      "010001 [0 0 0 0 0 0 0 0 0 0]\n",
      "010010 [0 0 0 0 0 -p**3 - 2*p**2*(1 - p) - p*(1 - p)**2 p**3 p**2*(1 - p) 0 0]\n",
      "010011 [0 0 0 0 0 -p**3 - 2*p**2*(1 - p) - p*(1 - p)**2 p**3 p**2*(1 - p) 0 0]\n",
      "010100 [0 0 0 0 0 p**2 + p*(1 - p) p*(1 - p) 0 0 0]\n",
      "010101 [0 0 0 0 0 p**2 + p*(1 - p) p*(1 - p) 0 0 0]\n",
      "010110 [0 0 0 0 0 p**2 + p*(1 - p) 0 p*(1 - p) 0 0]\n",
      "010111 [0 0 0 0 0 p**2 + p*(1 - p) 0 p*(1 - p) 0 0]\n",
      "011000 [0 0 0 0 -p 0 0 0 0 0]\n",
      "011001 [0 0 0 0 -p**2 - p*(1 - p) 0 0 0 0 0]\n",
      "011010 [0 0 0 0 -p**2 - p*(1 - p) 0 0 0 0 0]\n",
      "011011 [0 0 0 0 -p**2 - p*(1 - p) 0 0 0 0 0]\n",
      "011100 [0 0 0 0 -p 0 0 0 0 0]\n",
      "011101 [0 0 0 0 -p 0 0 0 0 0]\n",
      "011110 [0 0 0 0 -p 0 0 0 0 0]\n",
      "011111 [0 0 0 0 -p 0 0 0 0 0]\n",
      "100000 [0 0 0 0 0 0 0 0 0 0]\n",
      "100001 [0 0 0 0 0 0 0 0 0 0]\n",
      "100010 [0 0 0 0 0 -p**2 - p*(1 - p) p**2 p*(1 - p) 0 0]\n",
      "100011 [0 0 0 0 0 -p**2 - p*(1 - p) p**2 p*(1 - p) 0 0]\n",
      "100100 [0 0 0 0 0 p*(1 - p) -p**2 - 2*p*(1 - p) 0 0 0]\n",
      "100101 [0 0 0 0 0 p*(1 - p) -p**2 - 2*p*(1 - p) 0 0 0]\n",
      "100110 [0 0 0 0 0 p*(1 - p) 0 -p**2 - 2*p*(1 - p) 0 0]\n",
      "100111 [0 0 0 0 0 p*(1 - p) 0 -p**2 - 2*p*(1 - p) 0 0]\n",
      "101000 [0 0 0 0 0 p 0 0 0 0]\n",
      "101001 [0 0 0 0 0 p**2 + p*(1 - p) 0 0 0 0]\n",
      "101010 [0 0 0 0 0 p**2 + p*(1 - p) 0 0 0 0]\n",
      "101011 [0 0 0 0 0 p**2 + p*(1 - p) 0 0 0 0]\n",
      "101100 [0 0 0 0 0 0 p 0 0 0]\n",
      "101101 [0 0 0 0 0 0 p 0 0 0]\n",
      "101110 [0 0 0 0 0 0 0 p 0 0]\n",
      "101111 [0 0 0 0 0 0 0 p 0 0]\n",
      "110000 [0 0 0 0 0 0 0 0 0 0]\n",
      "110001 [0 0 0 0 0 0 0 0 0 0]\n",
      "110010 [0 0 0 0 0 -p**2 - p*(1 - p) 0 0 0 0]\n",
      "110011 [0 0 0 0 0 -p**2 - p*(1 - p) 0 0 0 0]\n",
      "110100 [0 0 0 0 0 p 0 0 0 0]\n",
      "110101 [0 0 0 0 0 p 0 0 0 0]\n",
      "110110 [0 0 0 0 0 p 0 0 0 0]\n",
      "110111 [0 0 0 0 0 p 0 0 0 0]\n",
      "111000 [0 0 0 0 0 0 0 0 0 0]\n",
      "111001 [0 0 0 0 0 0 0 0 0 0]\n",
      "111010 [0 0 0 0 0 0 0 0 0 0]\n",
      "111011 [0 0 0 0 0 0 0 0 0 0]\n",
      "111100 [0 0 0 0 0 0 0 0 0 0]\n",
      "111101 [0 0 0 0 0 0 0 0 0 0]\n",
      "111110 [0 0 0 0 0 0 0 0 0 0]\n",
      "111111 [0 0 0 0 0 0 0 0 0 0]\n"
     ]
    }
   ],
   "source": [
    "# test\n",
    "pats = np.array([\n",
    "    [\"0010\", 2],\n",
    "    [\"0011\", 2],\n",
    "    [\"0101\", 3],\n",
    "    [\"1101\", 3],\n",
    "    [\"11\", 1],\n",
    "    [\"00\", 0],\n",
    "    [\"0010\", 1],\n",
    "    [\"0011\", 1],\n",
    "    [\"0101\", 2],\n",
    "    [\"1101\", 2]\n",
    "])\n",
    "dind = 2\n",
    "tr = np.array([labels['B'], labels['E'], labels['F']])\n",
    "subs = generateAllBinaryStrings(6)\n",
    "for i in subs:\n",
    "    x = calcExpectedDifference(pats, i, dind, tr)\n",
    "    print(i, x)"
   ]
  },
  {
   "cell_type": "code",
   "execution_count": 28,
   "metadata": {},
   "outputs": [
    {
     "name": "stdout",
     "output_type": "stream",
     "text": [
      "000000 [0 0 0 0 0 0 0 0 0 0]\n",
      "000001 [0 0 0 0 0 0 0 0 0 0]\n",
      "000010 [0 0 0 0 0 -p**2 - p*(1 - p) p**2 p*(1 - p) 0 0]\n",
      "000011 [0 0 0 0 0 -p**2 - p*(1 - p) p**2 p*(1 - p) 0 0]\n",
      "000100 [0 0 0 0 0 p*(1 - p) -p**2 - 2*p*(1 - p) 0 0 0]\n",
      "000101 [0 0 0 0 0 p*(1 - p) -p**2 - 2*p*(1 - p) 0 0 0]\n",
      "000110 [0 0 0 0 0 p*(1 - p) 0 -p**2 - 2*p*(1 - p) 0 0]\n",
      "000111 [0 0 0 0 0 p*(1 - p) 0 -p**2 - 2*p*(1 - p) 0 0]\n",
      "001000 [0 0 0 0 p*(1 - p) p**2 + p*(1 - p) 0 0 0 0]\n",
      "001001 [0 0 0 0 p**2*(1 - p) + p*(1 - p)**2 p**3 + 2*p**2*(1 - p) + p*(1 - p)**2\n",
      " 0 0 0 0]\n",
      "001010 [0 0 0 0 p**2*(1 - p) + p*(1 - p)**2 p**3 + 2*p**2*(1 - p) + p*(1 - p)**2\n",
      " 0 0 0 0]\n",
      "001011 [0 0 0 0 p**2*(1 - p) + p*(1 - p)**2 p**3 + 2*p**2*(1 - p) + p*(1 - p)**2\n",
      " 0 0 0 0]\n",
      "001100 [0 0 0 0 p*(1 - p) 0 p*(1 - p) 0 0 0]\n",
      "001101 [0 0 0 0 p*(1 - p) 0 p*(1 - p) 0 0 0]\n",
      "001110 [0 0 0 0 p*(1 - p) 0 0 p*(1 - p) 0 0]\n",
      "001111 [0 0 0 0 p*(1 - p) 0 0 p*(1 - p) 0 0]\n",
      "010000 [0 0 0 0 0 0 0 0 0 0]\n",
      "010001 [0 0 0 0 0 0 0 0 0 0]\n",
      "010010 [0 0 0 0 0 -p**3 - 2*p**2*(1 - p) - p*(1 - p)**2 p**3 p**2*(1 - p) 0 0]\n",
      "010011 [0 0 0 0 0 -p**3 - 2*p**2*(1 - p) - p*(1 - p)**2 p**3 p**2*(1 - p) 0 0]\n",
      "010100 [0 0 0 0 0 p**2 + p*(1 - p) p*(1 - p) 0 0 0]\n",
      "010101 [0 0 0 0 0 p**2 + p*(1 - p) p*(1 - p) 0 0 0]\n",
      "010110 [0 0 0 0 0 p**2 + p*(1 - p) 0 p*(1 - p) 0 0]\n",
      "010111 [0 0 0 0 0 p**2 + p*(1 - p) 0 p*(1 - p) 0 0]\n",
      "011000 [0 0 0 0 -p 0 0 0 0 0]\n",
      "011001 [0 0 0 0 -p**2 - p*(1 - p) 0 0 0 0 0]\n",
      "011010 [0 0 0 0 -p**2 - p*(1 - p) 0 0 0 0 0]\n",
      "011011 [0 0 0 0 -p**2 - p*(1 - p) 0 0 0 0 0]\n",
      "011100 [0 0 0 0 -p 0 0 0 0 0]\n",
      "011101 [0 0 0 0 -p 0 0 0 0 0]\n",
      "011110 [0 0 0 0 -p 0 0 0 0 0]\n",
      "011111 [0 0 0 0 -p 0 0 0 0 0]\n",
      "100000 [0 0 0 0 0 0 0 0 0 0]\n",
      "100001 [0 0 0 0 0 0 0 0 0 0]\n",
      "100010 [0 0 0 0 0 -p**2 - p*(1 - p) p**2 p*(1 - p) 0 0]\n",
      "100011 [0 0 0 0 0 -p**2 - p*(1 - p) p**2 p*(1 - p) 0 0]\n",
      "100100 [0 0 0 0 0 p*(1 - p) -p**2 - 2*p*(1 - p) 0 0 0]\n",
      "100101 [0 0 0 0 0 p*(1 - p) -p**2 - 2*p*(1 - p) 0 0 0]\n",
      "100110 [0 0 0 0 0 p*(1 - p) 0 -p**2 - 2*p*(1 - p) 0 0]\n",
      "100111 [0 0 0 0 0 p*(1 - p) 0 -p**2 - 2*p*(1 - p) 0 0]\n",
      "101000 [0 0 0 0 0 p 0 0 0 0]\n",
      "101001 [0 0 0 0 0 p**2 + p*(1 - p) 0 0 0 0]\n",
      "101010 [0 0 0 0 0 p**2 + p*(1 - p) 0 0 0 0]\n",
      "101011 [0 0 0 0 0 p**2 + p*(1 - p) 0 0 0 0]\n",
      "101100 [0 0 0 0 0 0 p 0 0 0]\n",
      "101101 [0 0 0 0 0 0 p 0 0 0]\n",
      "101110 [0 0 0 0 0 0 0 p 0 0]\n",
      "101111 [0 0 0 0 0 0 0 p 0 0]\n",
      "110000 [0 0 0 0 0 0 0 0 0 0]\n",
      "110001 [0 0 0 0 0 0 0 0 0 0]\n",
      "110010 [0 0 0 0 0 -p**2 - p*(1 - p) 0 0 0 0]\n",
      "110011 [0 0 0 0 0 -p**2 - p*(1 - p) 0 0 0 0]\n",
      "110100 [0 0 0 0 0 p 0 0 0 0]\n",
      "110101 [0 0 0 0 0 p 0 0 0 0]\n",
      "110110 [0 0 0 0 0 p 0 0 0 0]\n",
      "110111 [0 0 0 0 0 p 0 0 0 0]\n",
      "111000 [0 0 0 0 0 0 0 0 0 0]\n",
      "111001 [0 0 0 0 0 0 0 0 0 0]\n",
      "111010 [0 0 0 0 0 0 0 0 0 0]\n",
      "111011 [0 0 0 0 0 0 0 0 0 0]\n",
      "111100 [0 0 0 0 0 0 0 0 0 0]\n",
      "111101 [0 0 0 0 0 0 0 0 0 0]\n",
      "111110 [0 0 0 0 0 0 0 0 0 0]\n",
      "111111 [0 0 0 0 0 0 0 0 0 0]\n"
     ]
    }
   ],
   "source": [
    "# test\n",
    "pats = np.array([\n",
    "    [\"0010\", 2],\n",
    "    [\"0011\", 2],\n",
    "    [\"0101\", 3],\n",
    "    [\"1101\", 3],\n",
    "    [\"11\", 1],\n",
    "    [\"00\", 0],\n",
    "    [\"0010\", 1],\n",
    "    [\"0011\", 1],\n",
    "    [\"0101\", 2],\n",
    "    [\"1101\", 2]\n",
    "\n",
    "    # [\"1\", 0],\n",
    "    # [\"011\", 2],\n",
    "    # [\"101\", 2]\n",
    "])\n",
    "dind = 2\n",
    "tr = np.array([labels['B'], labels['E'], labels['F']])\n",
    "subs = generateAllBinaryStrings(6)\n",
    "for i in subs:\n",
    "    x = calcExpectedDifference(pats, i, dind, tr)\n",
    "    print(i, x)"
   ]
  },
  {
   "attachments": {},
   "cell_type": "markdown",
   "metadata": {},
   "source": [
    "# final output"
   ]
  },
  {
   "cell_type": "code",
   "execution_count": 18,
   "metadata": {},
   "outputs": [],
   "source": [
    "#\n",
    "def getAllDifferencesOnExpectationWithGivenPatterns(patterns, dot_index, transition_rules = np.array([labels['A'], labels['B'], labels['F'], labels['C'], labels['G'], labels['H']])):\n",
    "    pattern_max_length = np.max([len(i) for i in patterns[:, 0]])\n",
    "    m = patterns.shape[0]\n",
    "\n",
    "    # binary sub-config length should be equal with pattern_length + 2\n",
    "    k = pattern_max_length + 2\n",
    "    n = 2 ** k\n",
    "    binary_sub_configs = generateAllBinaryStrings(k)\n",
    "    diffs = [ [0] * m for i in range(n)]\n",
    "    for j in range(n):\n",
    "        expectations_of_current_sub_config = calcExpectedDifference(patterns, binary_sub_configs[j], dot_index, transition_rules)\n",
    "        diffs[j] = expectations_of_current_sub_config\n",
    "    \n",
    "    return np.array(diffs).T\n"
   ]
  },
  {
   "attachments": {},
   "cell_type": "markdown",
   "metadata": {},
   "source": [
    "### EF and EFG 🟢"
   ]
  },
  {
   "cell_type": "code",
   "execution_count": 19,
   "metadata": {},
   "outputs": [
    {
     "name": "stdout",
     "output_type": "stream",
     "text": [
      "0\n",
      "0\n",
      "-p\n",
      "-p\n",
      "0\n",
      "0\n",
      "0\n",
      "0\n",
      "0\n",
      "0\n",
      "-p\n",
      "-p\n",
      "0\n",
      "0\n",
      "0\n",
      "0\n"
     ]
    }
   ],
   "source": [
    "####################### test 1\n",
    "pats = np.array([[\"0\", 0], [\"11\", 1], [\"01\", 1]])\n",
    "dind = 2\n",
    "tr = np.array([labels['E'], labels['F']])\n",
    "weights = np.array([0, 1, 1])\n",
    "\n",
    "x = getAllDifferencesOnExpectationWithGivenPatterns(pats, dind, tr)\n",
    "y = np.dot(weights, x)\n",
    "for i in y:\n",
    "    print(i)"
   ]
  },
  {
   "attachments": {},
   "cell_type": "markdown",
   "metadata": {},
   "source": [
    "### BEF 🔴"
   ]
  },
  {
   "cell_type": "code",
   "execution_count": 26,
   "metadata": {},
   "outputs": [
    {
     "name": "stdout",
     "output_type": "stream",
     "text": [
      "0\n",
      "0\n",
      "0\n",
      "0\n",
      "0\n",
      "0\n",
      "0\n",
      "0\n",
      "p*(1 - p)*(2*floor(3/p) + 4)\n",
      "(p**2*(1 - p) + p*(1 - p)**2)*(2*floor(3/p) + 4)\n",
      "(p**2*(1 - p) + p*(1 - p)**2)*(2*floor(3/p) + 4)\n",
      "(p**2*(1 - p) + p*(1 - p)**2)*(2*floor(3/p) + 4)\n",
      "p*(1 - p)*(2*floor(3/p) + 4)\n",
      "p*(1 - p)*(2*floor(3/p) + 4)\n",
      "p*(1 - p)*(2*floor(3/p) + 4)\n",
      "p*(1 - p)*(2*floor(3/p) + 4)\n",
      "0\n",
      "0\n",
      "0\n",
      "0\n",
      "0\n",
      "0\n",
      "0\n",
      "0\n",
      "-p*(2*floor(3/p) + 4)\n",
      "(-p**2 - p*(1 - p))*(2*floor(3/p) + 4)\n",
      "(-p**2 - p*(1 - p))*(2*floor(3/p) + 4)\n",
      "(-p**2 - p*(1 - p))*(2*floor(3/p) + 4)\n",
      "-p*(2*floor(3/p) + 4)\n",
      "-p*(2*floor(3/p) + 4)\n",
      "-p*(2*floor(3/p) + 4)\n",
      "-p*(2*floor(3/p) + 4)\n",
      "0\n",
      "0\n",
      "0\n",
      "0\n",
      "0\n",
      "0\n",
      "0\n",
      "0\n",
      "0\n",
      "0\n",
      "0\n",
      "0\n",
      "0\n",
      "0\n",
      "0\n",
      "0\n",
      "0\n",
      "0\n",
      "0\n",
      "0\n",
      "0\n",
      "0\n",
      "0\n",
      "0\n",
      "0\n",
      "0\n",
      "0\n",
      "0\n",
      "0\n",
      "0\n",
      "0\n",
      "0\n"
     ]
    }
   ],
   "source": [
    "####################### test 2\n",
    "pats = np.array([\n",
    "    [\"0010\", 2],\n",
    "    [\"0011\", 2],\n",
    "    [\"0101\", 3],\n",
    "    [\"1101\", 3],\n",
    "    [\"11\", 1],\n",
    "    [\"00\", 0],\n",
    "    [\"0010\", 1],\n",
    "    [\"0011\", 1],\n",
    "    [\"0101\", 2],\n",
    "    [\"1101\", 2]\n",
    "\n",
    "    # [\"1\", 0],\n",
    "    # [\"011\", 2],\n",
    "    # [\"101\", 2]\n",
    "])\n",
    "dind = 2\n",
    "tr = np.array([labels['B'], labels['E'], labels['F']])\n",
    "p = sp.symbols(\"p\")\n",
    "c = -sp.floor(3 / p) - 1\n",
    "b = -1\n",
    "a = -2 * c + 2\n",
    "weights = np.array([\n",
    "    a,\n",
    "    a + b,\n",
    "    a + b,\n",
    "    a + b,\n",
    "    a,\n",
    "    0,\n",
    "    0,\n",
    "    0,\n",
    "    0,\n",
    "    c\n",
    "\n",
    "    # a,\n",
    "    # b,\n",
    "    # c\n",
    "])\n",
    "\n",
    "x = getAllDifferencesOnExpectationWithGivenPatterns(pats, dind, tr)\n",
    "y = np.dot(weights, x)\n",
    "for i in y:\n",
    "    print(i)"
   ]
  },
  {
   "attachments": {},
   "cell_type": "markdown",
   "metadata": {},
   "source": [
    "### B and BC 🟢"
   ]
  },
  {
   "cell_type": "code",
   "execution_count": 21,
   "metadata": {},
   "outputs": [
    {
     "name": "stdout",
     "output_type": "stream",
     "text": [
      "0\n",
      "0\n",
      "-p\n",
      "-p\n",
      "0\n",
      "0\n",
      "0\n",
      "0\n",
      "-p\n",
      "-p**2 - 2*p*(1 - p)\n",
      "0\n",
      "0\n",
      "0\n",
      "0\n",
      "0\n",
      "0\n",
      "0\n",
      "-p**2\n",
      "-p**2 - 2*p*(1 - p)\n",
      "-p**2 - 2*p*(1 - p)\n",
      "0\n",
      "0\n",
      "0\n",
      "0\n",
      "-p\n",
      "-p**2 - 2*p*(1 - p)\n",
      "0\n",
      "0\n",
      "0\n",
      "0\n",
      "0\n",
      "0\n"
     ]
    }
   ],
   "source": [
    "####################### test 3\n",
    "pats = np.array([\n",
    "    [\"00\", 0],\n",
    "    [\"001\", 1],\n",
    "    [\"101\", 1],\n",
    "    [\"1\", 0]\n",
    "])\n",
    "dind = 2\n",
    "tr = np.array([labels['B'], labels['C']])\n",
    "weights = np.array([\n",
    "    1,\n",
    "    1,\n",
    "    0,\n",
    "    0\n",
    "])\n",
    "\n",
    "x = getAllDifferencesOnExpectationWithGivenPatterns(pats, dind, tr)\n",
    "y = np.dot(weights, x)\n",
    "for i in y:\n",
    "    print(i)"
   ]
  },
  {
   "attachments": {},
   "cell_type": "markdown",
   "metadata": {},
   "source": [
    "### BDE and BCDE 🔴"
   ]
  },
  {
   "cell_type": "code",
   "execution_count": 22,
   "metadata": {},
   "outputs": [
    {
     "name": "stdout",
     "output_type": "stream",
     "text": [
      "0\n",
      "-p\n",
      "p\n",
      "0\n",
      "0\n",
      "-p\n",
      "0\n",
      "0\n"
     ]
    }
   ],
   "source": [
    "####################### test 3\n",
    "pats = np.array([\n",
    "    # [\"011\", 1],\n",
    "    # [\"010\", 1],\n",
    "    # [\"11\", 1],\n",
    "    # [\"00\", 0],\n",
    "    # [\"011\", 0],\n",
    "    # [\"010\", 0]\n",
    "    [\"0\", 0]\n",
    "])\n",
    "dind = 1\n",
    "tr = np.array([labels['B'], labels['D'], labels['E']])\n",
    "weights = np.array([\n",
    "    1\n",
    "])\n",
    "\n",
    "x = getAllDifferencesOnExpectationWithGivenPatterns(pats, dind, tr)\n",
    "y = np.dot(weights, x)\n",
    "for i in y:\n",
    "    print(i)"
   ]
  },
  {
   "attachments": {},
   "cell_type": "markdown",
   "metadata": {},
   "source": [
    "### BE and BCE 🟢"
   ]
  },
  {
   "cell_type": "code",
   "execution_count": 23,
   "metadata": {},
   "outputs": [
    {
     "name": "stdout",
     "output_type": "stream",
     "text": [
      "0\n",
      "0\n",
      "0\n",
      "0\n",
      "0\n",
      "0\n",
      "0\n",
      "0\n",
      "-3*p*(1 - p)\n",
      "-3*p**2*(1 - p) - 3*p*(1 - p)**2\n",
      "-3*p**3*(1 - p) - 6*p**2*(1 - p)**2 - 3*p*(1 - p)**3\n",
      "-3*p**2*(1 - p) - 3*p*(1 - p)**2\n",
      "-3*p\n",
      "-3*p**2 - 3*p*(1 - p)\n",
      "-3*p\n",
      "-3*p\n",
      "-3*p*(1 - p)\n",
      "-3*p**2*(1 - p) - 3*p*(1 - p)**2\n",
      "-3*p**3*(1 - p) - 6*p**2*(1 - p)**2 - 3*p*(1 - p)**3\n",
      "-3*p**2*(1 - p) - 3*p*(1 - p)**2\n",
      "-3*p**3*(1 - p) - 9*p**2*(1 - p)**2 - 6*p*(1 - p)**3\n",
      "-3*p**4*(1 - p) - 12*p**3*(1 - p)**2 - 15*p**2*(1 - p)**3 - 6*p*(1 - p)**4\n",
      "-3*p**2*(1 - p) - 6*p*(1 - p)**2\n",
      "-3*p**2*(1 - p) - 6*p*(1 - p)**2\n",
      "0\n",
      "0\n",
      "0\n",
      "0\n",
      "0\n",
      "0\n",
      "0\n",
      "0\n",
      "0\n",
      "0\n",
      "0\n",
      "0\n",
      "0\n",
      "0\n",
      "0\n",
      "0\n",
      "-6*p**2*(1 - p) - 3*p*(1 - p)**2\n",
      "-6*p**3*(1 - p) - 9*p**2*(1 - p)**2 - 3*p*(1 - p)**3\n",
      "-6*p**4*(1 - p) - 15*p**3*(1 - p)**2 - 12*p**2*(1 - p)**3 - 3*p*(1 - p)**4\n",
      "-6*p**3*(1 - p) - 9*p**2*(1 - p)**2 - 3*p*(1 - p)**3\n",
      "-3*p**2 - 3*p*(1 - p)\n",
      "-3*p**3 - 6*p**2*(1 - p) - 3*p*(1 - p)**2\n",
      "-3*p**2 - 3*p*(1 - p)\n",
      "-3*p**2 - 3*p*(1 - p)\n",
      "0\n",
      "0\n",
      "0\n",
      "0\n",
      "0\n",
      "0\n",
      "0\n",
      "0\n",
      "0\n",
      "0\n",
      "0\n",
      "0\n",
      "0\n",
      "0\n",
      "0\n",
      "0\n",
      "0\n",
      "0\n",
      "0\n",
      "0\n",
      "0\n",
      "0\n",
      "0\n",
      "0\n",
      "-3*p*(1 - p)\n",
      "-3*p**2*(1 - p) - 3*p*(1 - p)**2\n",
      "-3*p**3*(1 - p) - 6*p**2*(1 - p)**2 - 3*p*(1 - p)**3\n",
      "-3*p**2*(1 - p) - 3*p*(1 - p)**2\n",
      "-3*p\n",
      "-3*p**2 - 3*p*(1 - p)\n",
      "-3*p\n",
      "-3*p\n",
      "-3*p*(1 - p)\n",
      "-3*p**2*(1 - p) - 3*p*(1 - p)**2\n",
      "-3*p**3*(1 - p) - 6*p**2*(1 - p)**2 - 3*p*(1 - p)**3\n",
      "-3*p**2*(1 - p) - 3*p*(1 - p)**2\n",
      "-3*p**3*(1 - p) - 9*p**2*(1 - p)**2 - 6*p*(1 - p)**3\n",
      "-3*p**4*(1 - p) - 12*p**3*(1 - p)**2 - 15*p**2*(1 - p)**3 - 6*p*(1 - p)**4\n",
      "-3*p**2*(1 - p) - 6*p*(1 - p)**2\n",
      "-3*p**2*(1 - p) - 6*p*(1 - p)**2\n",
      "0\n",
      "0\n",
      "0\n",
      "0\n",
      "0\n",
      "0\n",
      "0\n",
      "0\n",
      "0\n",
      "0\n",
      "0\n",
      "0\n",
      "0\n",
      "0\n",
      "0\n",
      "0\n",
      "-3*p**2 - 3*p*(1 - p)\n",
      "-3*p**3 - 6*p**2*(1 - p) - 3*p*(1 - p)**2\n",
      "-3*p**4 - 9*p**3*(1 - p) - 9*p**2*(1 - p)**2 - 3*p*(1 - p)**3\n",
      "-3*p**3 - 6*p**2*(1 - p) - 3*p*(1 - p)**2\n",
      "-3*p\n",
      "-3*p**2 - 3*p*(1 - p)\n",
      "-3*p\n",
      "-3*p\n",
      "0\n",
      "0\n",
      "0\n",
      "0\n",
      "0\n",
      "0\n",
      "0\n",
      "0\n",
      "0\n",
      "0\n",
      "0\n",
      "0\n",
      "0\n",
      "0\n",
      "0\n",
      "0\n"
     ]
    }
   ],
   "source": [
    "####################### test 4\n",
    "pats = np.array([\n",
    "    [\"0\", 0],\n",
    "    [\"010\", 1],\n",
    "    [\"01011\", 3]\n",
    "])\n",
    "dind = 2\n",
    "tr = np.array([labels['B'], labels['D'], labels['E']])\n",
    "weights = np.array([\n",
    "    3,\n",
    "    3,\n",
    "    1\n",
    "])\n",
    "\n",
    "x = getAllDifferencesOnExpectationWithGivenPatterns(pats, dind, tr)\n",
    "y = np.dot(weights, x)\n",
    "for i in y:\n",
    "    print(i)"
   ]
  },
  {
   "attachments": {},
   "cell_type": "markdown",
   "metadata": {},
   "source": [
    "### BEFG"
   ]
  },
  {
   "cell_type": "code",
   "execution_count": 24,
   "metadata": {},
   "outputs": [
    {
     "name": "stdout",
     "output_type": "stream",
     "text": [
      "0\n",
      "0\n",
      "6*p**2 + 5*p*(1 - p)\n",
      "6*p**2 + 5*p*(1 - p)\n",
      "-6*p**2 - 7*p*(1 - p)\n",
      "-6*p**2 - 7*p*(1 - p)\n",
      "-5*p**3 - 10*p**2*(1 - p) - 4*p*(1 - p)**2\n",
      "-5*p**2 - 5*p*(1 - p)\n",
      "0\n",
      "0\n",
      "0\n",
      "0\n",
      "-5*p**2 - 4*p*(1 - p)\n",
      "-5*p**2 - 4*p*(1 - p)\n",
      "p**2\n",
      "0\n",
      "0\n",
      "0\n",
      "6*p**2 + 5*p*(1 - p)\n",
      "6*p**2 + 5*p*(1 - p)\n",
      "-6*p\n",
      "-6*p\n",
      "-5*p**2 - 4*p*(1 - p)\n",
      "-5*p\n",
      "0\n",
      "0\n",
      "0\n",
      "0\n",
      "-5*p\n",
      "-5*p\n",
      "0\n",
      "0\n"
     ]
    }
   ],
   "source": [
    "####################### test 5\n",
    "pats = np.array([\n",
    "    [\"011\", 1],\n",
    "    [\"11\", 1],\n",
    "    [\"010\", 1]\n",
    "\n",
    "    # [\"1\", 0],\n",
    "    # [\"010\", 1]\n",
    "\n",
    "])\n",
    "dind = 2\n",
    "tr = np.array([labels['B'], labels['E'], labels['F'], labels['G']])\n",
    "weights = np.array([\n",
    "    5,\n",
    "    5,\n",
    "    6\n",
    "\n",
    "    # 5,\n",
    "    # 1\n",
    "])\n",
    "\n",
    "x = getAllDifferencesOnExpectationWithGivenPatterns(pats, dind, tr)\n",
    "y = np.dot(weights, x)\n",
    "for i in y:\n",
    "    print(i)"
   ]
  },
  {
   "attachments": {},
   "cell_type": "markdown",
   "metadata": {},
   "source": [
    "### BCDEF"
   ]
  },
  {
   "cell_type": "code",
   "execution_count": 25,
   "metadata": {},
   "outputs": [
    {
     "name": "stdout",
     "output_type": "stream",
     "text": [
      "0\n",
      "p\n",
      "-2*p**2 - 3*p*(1 - p)\n",
      "-2*p**2 - 3*p*(1 - p)\n",
      "2*p**2 + p*(1 - p)\n",
      "2*p**2 + p*(1 - p)\n",
      "2*p\n",
      "2*p\n",
      "-p\n",
      "-p**2\n",
      "-2*p**2 - 3*p*(1 - p)\n",
      "-2*p**2 - 3*p*(1 - p)\n",
      "0\n",
      "0\n",
      "0\n",
      "0\n"
     ]
    }
   ],
   "source": [
    "####################### test 5\n",
    "pats = np.array([\n",
    "    [\"00\", 0],\n",
    "    [\"01\", 0],\n",
    "    [\"1\", 0]\n",
    "])\n",
    "dind = 1\n",
    "tr = np.array([labels['B'], labels['C'], labels['D'], labels['E'], labels['F']])\n",
    "weights = np.array([\n",
    "    1,\n",
    "    2,\n",
    "    0\n",
    "])\n",
    "\n",
    "x = getAllDifferencesOnExpectationWithGivenPatterns(pats, dind, tr)\n",
    "y = np.dot(weights, x)\n",
    "for i in y:\n",
    "    print(i)"
   ]
  }
 ],
 "metadata": {
  "kernelspec": {
   "display_name": "Python 3",
   "language": "python",
   "name": "python3"
  },
  "language_info": {
   "codemirror_mode": {
    "name": "ipython",
    "version": 3
   },
   "file_extension": ".py",
   "mimetype": "text/x-python",
   "name": "python",
   "nbconvert_exporter": "python",
   "pygments_lexer": "ipython3",
   "version": "3.9.13"
  },
  "orig_nbformat": 4,
  "vscode": {
   "interpreter": {
    "hash": "b2b4b3e20a59bbd542fb0c9d108ffad78ee7f3ee5b86844fb3b71a43ea545da1"
   }
  }
 },
 "nbformat": 4,
 "nbformat_minor": 2
}
