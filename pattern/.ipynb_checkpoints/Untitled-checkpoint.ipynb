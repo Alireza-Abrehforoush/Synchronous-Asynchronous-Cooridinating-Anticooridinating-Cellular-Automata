{
 "cells": [
  {
   "cell_type": "code",
   "execution_count": 50,
   "metadata": {},
   "outputs": [],
   "source": [
    "import numpy as np\n",
    "import sympy as sp"
   ]
  },
  {
   "cell_type": "code",
   "execution_count": 51,
   "metadata": {},
   "outputs": [],
   "source": [
    "def countOccurrencesCircular(string, substring):\n",
    "    cnt = 0\n",
    "    x = string + string\n",
    "    m = len(substring)\n",
    "    for i in range(len(string)):\n",
    "        if substring == x[i: i + m]:\n",
    "            cnt += 1\n",
    "    return cnt\n"
   ]
  },
  {
   "cell_type": "code",
   "execution_count": 52,
   "metadata": {},
   "outputs": [],
   "source": [
    "# function to calculate number of occurrence of a pattern in a sub-config\n",
    "def countOccurrences(sub, string):\n",
    "    count = start = 0\n",
    "    while True:\n",
    "        start = string.find(sub, start) + 1\n",
    "        if start > 0:\n",
    "            count+=1\n",
    "        else:\n",
    "            return count\n"
   ]
  },
  {
   "cell_type": "code",
   "execution_count": 53,
   "metadata": {},
   "outputs": [],
   "source": [
    "# function to calculate probability of conversion of sub-config A to B\n",
    "def calcProp(A, B):\n",
    "    a = len(A)\n",
    "    b = len(B)\n",
    "    if (a != b or A[0] != B[0] or A[a - 1] != B[b - 1]):\n",
    "        return 0\n",
    "    r, p = sp.symbols(\"r p\")\n",
    "    r = 1\n",
    "    for i in range(1, a - 1):    # ignoring first and last cell\n",
    "        if (A[i] == B[i]):    # must remain on its strategy\n",
    "            if (A[i - 1] == A[i] or A[i] == A[i + 1]):    # checking if the ith cell can flip\n",
    "                r *= (1 - p)\n",
    "            else:\n",
    "                r *= 1\n",
    "        else:\n",
    "            if (A[i - 1] == A[i] or A[i] == A[i + 1]):\n",
    "                r *= p\n",
    "            else:\n",
    "                return 0\n",
    "    return r\n"
   ]
  },
  {
   "cell_type": "code",
   "execution_count": 54,
   "metadata": {},
   "outputs": [],
   "source": [
    "def generateAllBinaryStrings(length):\n",
    "    arr = [\"\"] * 2 ** length\n",
    "    form = '#0' + str(length + 2) + 'b'\n",
    "    for i in range(2 ** length):\n",
    "        arr[i] = format(i, form)[2:]\n",
    "    return np.array(arr)\n"
   ]
  },
  {
   "cell_type": "code",
   "execution_count": 55,
   "metadata": {},
   "outputs": [],
   "source": [
    "# function to calculate the expected difference of number of a list of patterns in a sub-config\n",
    "def calcExpectedDifference(patterns, sub_config):\n",
    "    k = len(sub_config) - 2\n",
    "    n = 2 ** k\n",
    "    binary_strings = generateAllBinaryStrings(k)\n",
    "    number_of_patterns = patterns.shape[0]\n",
    "    expected_differences = [0] * number_of_patterns\n",
    "    for j in range(number_of_patterns):\n",
    "        #\n",
    "        total_expectation = 0\n",
    "        current_number_of_occurrence = countOccurrences(patterns[j], sub_config[1:-1])\n",
    "        for i in range(n):\n",
    "            total_expectation += calcProp(sub_config, sub_config[0] + binary_strings[i] + sub_config[-1]) * (countOccurrences(patterns[j], binary_strings[i]) - current_number_of_occurrence)\n",
    "        #\n",
    "        expected_differences[j] = total_expectation\n",
    "    return np.array(expected_differences)\n"
   ]
  },
  {
   "cell_type": "code",
   "execution_count": 61,
   "metadata": {},
   "outputs": [
    {
     "data": {
      "text/latex": [
       "$\\displaystyle - p^{2} \\left(1 - p\\right) - p \\left(1 - p\\right)^{2}$"
      ],
      "text/plain": [
       "-p**2*(1 - p) - p*(1 - p)**2"
      ]
     },
     "execution_count": 61,
     "metadata": {},
     "output_type": "execute_result"
    }
   ],
   "source": [
    "#pats = generateAllBinaryStrings(3)\n",
    "pats = np.array([\"000\", \"001\", \"011\", \"100\", \"110\", \"111\"])\n",
    "x = calcExpectedDifference(pats, \"01100\")\n",
    "np.sum(x)"
   ]
  },
  {
   "cell_type": "code",
   "execution_count": 33,
   "metadata": {},
   "outputs": [
    {
     "data": {
      "text/plain": [
       "[0]"
      ]
     },
     "execution_count": 33,
     "metadata": {},
     "output_type": "execute_result"
    }
   ],
   "source": [
    "sp.real_roots(sp.Poly(x))"
   ]
  }
 ],
 "metadata": {
  "kernelspec": {
   "display_name": "Python 3",
   "language": "python",
   "name": "python3"
  },
  "language_info": {
   "codemirror_mode": {
    "name": "ipython",
    "version": 3
   },
   "file_extension": ".py",
   "mimetype": "text/x-python",
   "name": "python",
   "nbconvert_exporter": "python",
   "pygments_lexer": "ipython3",
   "version": "3.8.5"
  }
 },
 "nbformat": 4,
 "nbformat_minor": 4
}
