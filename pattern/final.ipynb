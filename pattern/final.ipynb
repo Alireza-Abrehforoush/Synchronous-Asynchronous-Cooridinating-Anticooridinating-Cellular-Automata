{
 "cells": [
  {
   "cell_type": "code",
   "execution_count": 35,
   "metadata": {},
   "outputs": [],
   "source": [
    "import numpy as np\n",
    "import sympy as sp"
   ]
  },
  {
   "cell_type": "code",
   "execution_count": 36,
   "metadata": {},
   "outputs": [],
   "source": [
    "labels = {\n",
    "    'A': (\"000\", \"1\"),\n",
    "    'B': (\"001\", \"1\"),\n",
    "    'C': (\"100\", \"1\"),\n",
    "    'D': (\"101\", \"1\"),\n",
    "    'E': (\"010\", \"0\"),\n",
    "    'F': (\"011\", \"0\"),\n",
    "    'G': (\"110\", \"0\"),\n",
    "    'H': (\"111\", \"0\")\n",
    "}"
   ]
  },
  {
   "cell_type": "code",
   "execution_count": 37,
   "metadata": {},
   "outputs": [],
   "source": [
    "# function to calculate number of occurrence of a pattern in a sub-config including overlapping ones and circular occurrences\n",
    "def countOccurrencesCircular(string, substring):\n",
    "    cnt = 0\n",
    "    x = string + string\n",
    "    m = len(substring)\n",
    "    for i in range(len(string)):\n",
    "        if substring == x[i: i + m]:\n",
    "            cnt += 1\n",
    "    return cnt\n"
   ]
  },
  {
   "cell_type": "code",
   "execution_count": 38,
   "metadata": {},
   "outputs": [],
   "source": [
    "# function to calculate number of occurrence of a pattern in a sub-config including overlapping ones\n",
    "def countOccurrences(sub, string):\n",
    "    count = start = 0\n",
    "    while True:\n",
    "        start = string.find(sub, start) + 1\n",
    "        if start > 0:\n",
    "            count += 1\n",
    "        else:\n",
    "            return count\n"
   ]
  },
  {
   "cell_type": "code",
   "execution_count": 39,
   "metadata": {},
   "outputs": [
    {
     "name": "stdout",
     "output_type": "stream",
     "text": [
      "2\n"
     ]
    }
   ],
   "source": [
    "# test\n",
    "print(countOccurrences(\"10\", \"010101111\"))"
   ]
  },
  {
   "cell_type": "code",
   "execution_count": 40,
   "metadata": {},
   "outputs": [],
   "source": [
    "# function to calculate probability of conversion of sub-config A to B\n",
    "def calcProp(A, B):\n",
    "    a = len(A)\n",
    "    b = len(B)\n",
    "    if (a != b or A[0] != B[0] or A[a - 1] != B[b - 1]):\n",
    "        return 0\n",
    "    r, p = sp.symbols(\"r p\")\n",
    "    r = 1\n",
    "    for i in range(1, a - 1):    # ignoring first and last cell\n",
    "        if (A[i] == B[i]):    # must remain on its strategy\n",
    "            if (A[i - 1] == A[i] or A[i] == A[i + 1]):    # checking if the ith cell can flip\n",
    "                r *= (1 - p)\n",
    "            else:\n",
    "                r *= 1\n",
    "        else:\n",
    "            if (A[i - 1] == A[i] or A[i] == A[i + 1]):\n",
    "                r *= p\n",
    "            else:\n",
    "                return 0\n",
    "    return r\n"
   ]
  },
  {
   "cell_type": "code",
   "execution_count": 41,
   "metadata": {},
   "outputs": [],
   "source": [
    "# function to decide if a cell is able to switch its strategy regarding transition rules\n",
    "def decideIfTheCellCanFlip(left, center, right, transition_rules):\n",
    "    n = transition_rules.shape[0]\n",
    "    for i in range(n):\n",
    "        if (transition_rules[i][0][0] == left and transition_rules[i][0][1] == center and transition_rules[i][0][2] == right and transition_rules[i][1][0] != center):\n",
    "            return True\n",
    "    return False"
   ]
  },
  {
   "cell_type": "code",
   "execution_count": 42,
   "metadata": {},
   "outputs": [],
   "source": [
    "# general function to calculate probability of conversion of sub-config A to B regarding certain transition rules\n",
    "def generalCalcProb(A, B, transition_rules = np.array([labels['A'], labels['B'], labels['F'], labels['C'], labels['G'], labels['H']])):\n",
    "    a = len(A)\n",
    "    b = len(B)\n",
    "    if (a != b or A[0] != B[0] or A[a - 1] != B[b - 1]):\n",
    "        return 0\n",
    "    r, p = sp.symbols(\"r p\")\n",
    "    r = 1\n",
    "    for i in range(1, a - 1):    # ignoring first and last cell\n",
    "        if (A[i] == B[i]):    # must remain on its strategy\n",
    "            if (decideIfTheCellCanFlip(A[i - 1], A[i], A[i + 1], transition_rules)):    # checking if the ith cell can flip\n",
    "                r *= (1 - p)\n",
    "            else:\n",
    "                r *= 1\n",
    "        else:\n",
    "            if (decideIfTheCellCanFlip(A[i - 1], A[i], A[i + 1], transition_rules)):\n",
    "                r *= p\n",
    "            else:\n",
    "                return 0\n",
    "    return r\n"
   ]
  },
  {
   "cell_type": "code",
   "execution_count": 43,
   "metadata": {},
   "outputs": [
    {
     "name": "stdout",
     "output_type": "stream",
     "text": [
      "p*(1 - p)**3\n",
      "p*(1 - p)**3\n"
     ]
    }
   ],
   "source": [
    "# test\n",
    "print(calcProp(\"011110\", \"010110\"))\n",
    "print(generalCalcProb(\"011110\", \"010110\"))"
   ]
  },
  {
   "cell_type": "code",
   "execution_count": 44,
   "metadata": {},
   "outputs": [],
   "source": [
    "def generateAllBinaryStrings(length):\n",
    "    arr = [\"\"] * 2 ** length\n",
    "    form = '#0' + str(length + 2) + 'b'\n",
    "    for i in range(2 ** length):\n",
    "        arr[i] = format(i, form)[2:]\n",
    "    return np.array(arr)\n"
   ]
  },
  {
   "cell_type": "code",
   "execution_count": 45,
   "metadata": {},
   "outputs": [
    {
     "name": "stdout",
     "output_type": "stream",
     "text": [
      "['000' '001' '010' '011' '100' '101' '110' '111']\n"
     ]
    }
   ],
   "source": [
    "# test\n",
    "print(generateAllBinaryStrings(3))"
   ]
  },
  {
   "cell_type": "code",
   "execution_count": 46,
   "metadata": {},
   "outputs": [],
   "source": [
    "# function to calculate the expected difference of number of a list of patterns in a sub-config\n",
    "def calcExpectedDifference(patterns, sub_config, transition_rules = np.array([labels['A'], labels['B'], labels['F'], labels['C'], labels['G'], labels['H']])):\n",
    "    k = len(sub_config) - 2\n",
    "    n = 2 ** k\n",
    "    binary_strings = generateAllBinaryStrings(k)\n",
    "    number_of_patterns = patterns.shape[0]\n",
    "    expected_differences = [0] * number_of_patterns\n",
    "    for j in range(number_of_patterns):\n",
    "        #\n",
    "        total_expectation = 0\n",
    "        current_number_of_occurrence = countOccurrences(patterns[j], sub_config[1:-1])\n",
    "        for i in range(n):\n",
    "            total_expectation += generalCalcProb(sub_config, sub_config[0] + binary_strings[i] + sub_config[-1], transition_rules) * (countOccurrences(patterns[j], binary_strings[i]) - current_number_of_occurrence)\n",
    "        #\n",
    "        expected_differences[j] = total_expectation\n",
    "    return np.array(expected_differences)\n"
   ]
  },
  {
   "cell_type": "code",
   "execution_count": 47,
   "metadata": {},
   "outputs": [
    {
     "data": {
      "text/latex": [
       "$\\displaystyle - p^{3} - 3 p^{2} \\cdot \\left(1 - p\\right) - 2 p \\left(1 - p\\right)^{2}$"
      ],
      "text/plain": [
       "-p**3 - 3*p**2*(1 - p) - 2*p*(1 - p)**2"
      ]
     },
     "execution_count": 47,
     "metadata": {},
     "output_type": "execute_result"
    }
   ],
   "source": [
    "# test\n",
    "calcExpectedDifference(np.array([\"001\"]), \"0010010\")[0]"
   ]
  },
  {
   "cell_type": "code",
   "execution_count": 48,
   "metadata": {},
   "outputs": [],
   "source": [
    "#\n",
    "def getAllDifferencesOnExpectationWithGivenPatterns(patterns, transition_rules = np.array([labels['A'], labels['B'], labels['F'], labels['C'], labels['G'], labels['H']])):\n",
    "    pattern_max_length = 0\n",
    "    m = patterns.shape[0]\n",
    "    #check if all patterns have same length\n",
    "    for i in range(m):\n",
    "        if (len(patterns[i]) > pattern_max_length):\n",
    "            pattern_max_length = len(patterns[i])\n",
    "\n",
    "    # binary sub-config length should be equal with 2 * pattern_length + 1\n",
    "    k = 2 * pattern_max_length + 1\n",
    "    n = 2 ** k\n",
    "    binary_sub_configs = generateAllBinaryStrings(k)\n",
    "    diffs = [ [0] * m for i in range(n)]\n",
    "    for j in range(n):\n",
    "        expectations_of_current_sub_config = calcExpectedDifference(patterns, binary_sub_configs[j], transition_rules)\n",
    "        diffs[j] = expectations_of_current_sub_config\n",
    "    \n",
    "    return np.array(diffs).T\n"
   ]
  },
  {
   "cell_type": "code",
   "execution_count": 49,
   "metadata": {},
   "outputs": [],
   "source": [
    "# pats = np.array([\"0\", \"010\", \"01011\"])\n",
    "# tr = np.array([labels['B'], labels['E']])\n",
    "# coef = np.array([3, 3, 1])\n",
    "\n",
    "pats = np.array([\"1\", \"010\"])\n",
    "tr = np.array([labels['B'], labels['E'], labels['F'], labels['G']])\n",
    "coef = np.array([5, 1])\n",
    "\n",
    "# pats = np.array([\"0\", \"11\", \"01\"])\n",
    "# tr = np.array([labels['E'], labels['F']])\n",
    "# coef = np.array([0, 1, 1])\n",
    "\n",
    "# pats = np.array([\"101\", \"011\", \"110\", \"111\", \"010\"])\n",
    "# tr = np.array([labels['B'], labels['E'], labels['F']])\n",
    "# p = sp.symbols('p')\n",
    "# c = -sp.floor(3 / p) - 1\n",
    "# b = -1\n",
    "# a = -2 * c + 2\n",
    "# coef = np.array([c, a + b, a, a, a])\n",
    "\n",
    "# pats = np.array([\"0\", \"1\"])\n",
    "# tr = np.array([labels['B'], labels['D'], labels['E']])\n",
    "# coef = np.array([1, 1])\n",
    "\n",
    "x = getAllDifferencesOnExpectationWithGivenPatterns(pats, tr)\n",
    "y = np.dot(coef, x)\n",
    "\n"
   ]
  },
  {
   "cell_type": "code",
   "execution_count": 50,
   "metadata": {},
   "outputs": [
    {
     "name": "stdout",
     "output_type": "stream",
     "text": [
      "4*p*(3*p**2 + 6*p - 206)\n"
     ]
    }
   ],
   "source": [
    "print(sp.simplify(np.sum(y)))"
   ]
  },
  {
   "cell_type": "code",
   "execution_count": 51,
   "metadata": {},
   "outputs": [
    {
     "name": "stdout",
     "output_type": "stream",
     "text": [
      "0\n",
      "5*p\n",
      "p**2\n",
      "p**2\n",
      "-2*p*(1 - p)\n",
      "-2*p*(1 - p)\n",
      "-4*p**3 - 9*p**2*(1 - p) - 4*p*(1 - p)**2\n",
      "p**2\n",
      "-2*p*(1 - p)\n",
      "5*p**3 + 8*p**2*(1 - p) + 3*p*(1 - p)**2\n",
      "-5*p**3 - 12*p**2*(1 - p) - 7*p*(1 - p)**2\n",
      "-5*p**3 - 12*p**2*(1 - p) - 7*p*(1 - p)**2\n",
      "-4*p**3 - 8*p**2*(1 - p) - 3*p*(1 - p)**2\n",
      "-4*p**3 - 8*p**2*(1 - p) - 3*p*(1 - p)**2\n",
      "-3*p**3 - 8*p**2*(1 - p) - 5*p*(1 - p)**2\n",
      "p**2\n",
      "-p**2 - 2*p*(1 - p)\n",
      "4*p**3 + 7*p**2*(1 - p) + 3*p*(1 - p)**2\n",
      "-2*p**3*(1 - p) - 4*p**2*(1 - p)**2 - 2*p*(1 - p)**3\n",
      "-2*p**3*(1 - p) - 4*p**2*(1 - p)**2 - 2*p*(1 - p)**3\n",
      "-7*p**3 - 15*p**2*(1 - p) - 8*p*(1 - p)**2\n",
      "-7*p**3 - 15*p**2*(1 - p) - 8*p*(1 - p)**2\n",
      "-11*p**4 - 33*p**3*(1 - p) - 33*p**2*(1 - p)**2 - 11*p*(1 - p)**3\n",
      "-6*p**3 - 13*p**2*(1 - p) - 7*p*(1 - p)**2\n",
      "-5*p**3 - 9*p**2*(1 - p) - 3*p*(1 - p)**2\n",
      "p**3*(1 - p) + 3*p**2*(1 - p)**2 + 2*p*(1 - p)**3\n",
      "-10*p**4 - 29*p**3*(1 - p) - 27*p**2*(1 - p)**2 - 8*p*(1 - p)**3\n",
      "-10*p**4 - 29*p**3*(1 - p) - 27*p**2*(1 - p)**2 - 8*p*(1 - p)**3\n",
      "-4*p**3 - 9*p**2*(1 - p) - 5*p*(1 - p)**2\n",
      "-4*p**3 - 9*p**2*(1 - p) - 5*p*(1 - p)**2\n",
      "-5*p**3 - 10*p**2*(1 - p) - 5*p*(1 - p)**2\n",
      "0\n",
      "-5*p\n",
      "0\n",
      "-4*p**3 - 9*p**2*(1 - p) - 5*p*(1 - p)**2\n",
      "-4*p**3 - 9*p**2*(1 - p) - 5*p*(1 - p)**2\n",
      "-5*p**3 - 12*p**2*(1 - p) - 7*p*(1 - p)**2\n",
      "-5*p**3 - 12*p**2*(1 - p) - 7*p*(1 - p)**2\n",
      "-9*p**4 - 28*p**3*(1 - p) - 28*p**2*(1 - p)**2 - 9*p*(1 - p)**3\n",
      "-4*p**3 - 9*p**2*(1 - p) - 5*p*(1 - p)**2\n",
      "-11*p**2 - 11*p*(1 - p)\n",
      "-6*p**3 - 12*p**2*(1 - p) - 6*p*(1 - p)**2\n",
      "-16*p**3 - 32*p**2*(1 - p) - 16*p*(1 - p)**2\n",
      "-16*p**3 - 32*p**2*(1 - p) - 16*p*(1 - p)**2\n",
      "-15*p**3 - 28*p**2*(1 - p) - 13*p*(1 - p)**2\n",
      "-15*p**3 - 28*p**2*(1 - p) - 13*p*(1 - p)**2\n",
      "-14*p**3 - 29*p**2*(1 - p) - 15*p*(1 - p)**2\n",
      "-10*p**2 - 10*p*(1 - p)\n",
      "-10*p**2 - 9*p*(1 - p)\n",
      "-5*p**3 - 9*p**2*(1 - p) - 4*p*(1 - p)**2\n",
      "-9*p**4 - 27*p**3*(1 - p) - 27*p**2*(1 - p)**2 - 9*p*(1 - p)**3\n",
      "-9*p**4 - 27*p**3*(1 - p) - 27*p**2*(1 - p)**2 - 9*p*(1 - p)**3\n",
      "-16*p**3 - 31*p**2*(1 - p) - 15*p*(1 - p)**2\n",
      "-16*p**3 - 31*p**2*(1 - p) - 15*p*(1 - p)**2\n",
      "-20*p**4 - 58*p**3*(1 - p) - 56*p**2*(1 - p)**2 - 18*p*(1 - p)**3\n",
      "-15*p**3 - 29*p**2*(1 - p) - 14*p*(1 - p)**2\n",
      "-9*p**2 - 10*p*(1 - p)\n",
      "-4*p**3 - 9*p**2*(1 - p) - 5*p*(1 - p)**2\n",
      "-14*p**3 - 29*p**2*(1 - p) - 15*p*(1 - p)**2\n",
      "-14*p**3 - 29*p**2*(1 - p) - 15*p*(1 - p)**2\n",
      "-10*p**2 - 10*p*(1 - p)\n",
      "-10*p**2 - 10*p*(1 - p)\n",
      "-10*p**2 - 10*p*(1 - p)\n",
      "-5*p\n",
      "0\n",
      "5*p\n",
      "p**2\n",
      "p**2\n",
      "-2*p*(1 - p)\n",
      "-2*p*(1 - p)\n",
      "-4*p**3 - 9*p**2*(1 - p) - 4*p*(1 - p)**2\n",
      "p**2\n",
      "-2*p*(1 - p)\n",
      "5*p**3 + 8*p**2*(1 - p) + 3*p*(1 - p)**2\n",
      "-5*p**3 - 12*p**2*(1 - p) - 7*p*(1 - p)**2\n",
      "-5*p**3 - 12*p**2*(1 - p) - 7*p*(1 - p)**2\n",
      "-4*p**3 - 8*p**2*(1 - p) - 3*p*(1 - p)**2\n",
      "-4*p**3 - 8*p**2*(1 - p) - 3*p*(1 - p)**2\n",
      "-3*p**3 - 8*p**2*(1 - p) - 5*p*(1 - p)**2\n",
      "p**2\n",
      "-6*p\n",
      "-p**2 - p*(1 - p)\n",
      "-5*p**3 - 11*p**2*(1 - p) - 6*p*(1 - p)**2\n",
      "-5*p**3 - 11*p**2*(1 - p) - 6*p*(1 - p)**2\n",
      "-12*p**2 - 12*p*(1 - p)\n",
      "-12*p**2 - 12*p*(1 - p)\n",
      "-16*p**3 - 31*p**2*(1 - p) - 15*p*(1 - p)**2\n",
      "-11*p**2 - 11*p*(1 - p)\n",
      "-10*p**2 - 8*p*(1 - p)\n",
      "-5*p**3 - 8*p**2*(1 - p) - 3*p*(1 - p)**2\n",
      "-15*p**3 - 28*p**2*(1 - p) - 13*p*(1 - p)**2\n",
      "-15*p**3 - 28*p**2*(1 - p) - 13*p*(1 - p)**2\n",
      "-9*p**2 - 10*p*(1 - p)\n",
      "-9*p**2 - 10*p*(1 - p)\n",
      "-10*p**2 - 10*p*(1 - p)\n",
      "-5*p\n",
      "-5*p\n",
      "0\n",
      "-4*p**3 - 9*p**2*(1 - p) - 5*p*(1 - p)**2\n",
      "-4*p**3 - 9*p**2*(1 - p) - 5*p*(1 - p)**2\n",
      "-5*p**3 - 12*p**2*(1 - p) - 7*p*(1 - p)**2\n",
      "-5*p**3 - 12*p**2*(1 - p) - 7*p*(1 - p)**2\n",
      "-9*p**4 - 28*p**3*(1 - p) - 28*p**2*(1 - p)**2 - 9*p*(1 - p)**3\n",
      "-4*p**3 - 9*p**2*(1 - p) - 5*p*(1 - p)**2\n",
      "-11*p**2 - 11*p*(1 - p)\n",
      "-6*p**3 - 12*p**2*(1 - p) - 6*p*(1 - p)**2\n",
      "-16*p**3 - 32*p**2*(1 - p) - 16*p*(1 - p)**2\n",
      "-16*p**3 - 32*p**2*(1 - p) - 16*p*(1 - p)**2\n",
      "-15*p**3 - 28*p**2*(1 - p) - 13*p*(1 - p)**2\n",
      "-15*p**3 - 28*p**2*(1 - p) - 13*p*(1 - p)**2\n",
      "-14*p**3 - 29*p**2*(1 - p) - 15*p*(1 - p)**2\n",
      "-10*p**2 - 10*p*(1 - p)\n",
      "-5*p\n",
      "0\n",
      "-4*p**3 - 9*p**2*(1 - p) - 5*p*(1 - p)**2\n",
      "-4*p**3 - 9*p**2*(1 - p) - 5*p*(1 - p)**2\n",
      "-11*p**2 - 11*p*(1 - p)\n",
      "-11*p**2 - 11*p*(1 - p)\n",
      "-15*p**3 - 29*p**2*(1 - p) - 14*p*(1 - p)**2\n",
      "-10*p**2 - 10*p*(1 - p)\n",
      "-5*p\n",
      "0\n",
      "-10*p**2 - 10*p*(1 - p)\n",
      "-10*p**2 - 10*p*(1 - p)\n",
      "-5*p\n",
      "-5*p\n",
      "-5*p\n",
      "0\n"
     ]
    }
   ],
   "source": [
    "for i in y:\n",
    "    print(i)"
   ]
  },
  {
   "cell_type": "code",
   "execution_count": 52,
   "metadata": {},
   "outputs": [
    {
     "data": {
      "text/latex": [
       "$\\displaystyle 0$"
      ],
      "text/plain": [
       "0"
      ]
     },
     "execution_count": 52,
     "metadata": {},
     "output_type": "execute_result"
    }
   ],
   "source": [
    "# test\n",
    "5 * calcExpectedDifference(np.array([\"1\"]), \"0000010\", tr)[0]"
   ]
  },
  {
   "cell_type": "code",
   "execution_count": 18,
   "metadata": {},
   "outputs": [],
   "source": [
    "def getIntervalInWhichAllAreNegative(expectations):\n",
    "    p = sp.symbols('p')\n",
    "    lower_bound = sp.solvers.inequalities.solve_univariate_inequality(p > 0, p)\n",
    "    upper_bound = sp.solvers.inequalities.solve_univariate_inequality(p < 1, p)\n",
    "    interval = sp.And(lower_bound, upper_bound)\n",
    "    interval = sp.simplify(interval)\n",
    "    for i in range(expectations.shape[0]):\n",
    "        if expectations[i] != 0:\n",
    "            beta = sp.solvers.inequalities.solve_univariate_inequality(expectations[i] < 0, p)\n",
    "            interval = sp.And(interval, beta)\n",
    "            interval = sp.simplify(interval)\n",
    "            if interval == sp.false:\n",
    "                return sp.false\n",
    "    return interval"
   ]
  },
  {
   "cell_type": "code",
   "execution_count": 53,
   "metadata": {},
   "outputs": [
    {
     "name": "stdout",
     "output_type": "stream",
     "text": [
      "1, 1, -11, 1, 1, -11, 1, 1: False\n",
      "1, 1, -11, 1, 1, -11, 1, 6: False\n",
      "1, 1, -11, 1, 1, -11, 6, 1: False\n",
      "1, 1, -11, 1, 1, -11, 6, 6: False\n"
     ]
    },
    {
     "ename": "KeyboardInterrupt",
     "evalue": "",
     "output_type": "error",
     "traceback": [
      "\u001b[1;31m---------------------------------------------------------------------------\u001b[0m",
      "\u001b[1;31mKeyboardInterrupt\u001b[0m                         Traceback (most recent call last)",
      "\u001b[1;32m<ipython-input-53-3c2ceb861848>\u001b[0m in \u001b[0;36m<module>\u001b[1;34m\u001b[0m\n\u001b[0;32m     13\u001b[0m                             \u001b[1;32mfor\u001b[0m \u001b[0mi8\u001b[0m \u001b[1;32min\u001b[0m \u001b[0mrange\u001b[0m\u001b[1;33m(\u001b[0m\u001b[0mt1\u001b[0m\u001b[1;33m,\u001b[0m \u001b[0mt2\u001b[0m\u001b[1;33m,\u001b[0m \u001b[0mt3\u001b[0m\u001b[1;33m)\u001b[0m\u001b[1;33m:\u001b[0m\u001b[1;33m\u001b[0m\u001b[1;33m\u001b[0m\u001b[0m\n\u001b[0;32m     14\u001b[0m                                 \u001b[0my\u001b[0m \u001b[1;33m=\u001b[0m \u001b[0mnp\u001b[0m\u001b[1;33m.\u001b[0m\u001b[0mdot\u001b[0m\u001b[1;33m(\u001b[0m\u001b[0mnp\u001b[0m\u001b[1;33m.\u001b[0m\u001b[0marray\u001b[0m\u001b[1;33m(\u001b[0m\u001b[1;33m[\u001b[0m\u001b[0mi1\u001b[0m\u001b[1;33m,\u001b[0m \u001b[0mi2\u001b[0m\u001b[1;33m,\u001b[0m \u001b[0mi3\u001b[0m\u001b[1;33m,\u001b[0m \u001b[0mi4\u001b[0m\u001b[1;33m,\u001b[0m \u001b[0mi5\u001b[0m\u001b[1;33m,\u001b[0m \u001b[0mi6\u001b[0m\u001b[1;33m,\u001b[0m \u001b[0mi7\u001b[0m\u001b[1;33m,\u001b[0m \u001b[0mi8\u001b[0m\u001b[1;33m]\u001b[0m\u001b[1;33m)\u001b[0m\u001b[1;33m,\u001b[0m \u001b[0mx\u001b[0m\u001b[1;33m)\u001b[0m\u001b[1;33m\u001b[0m\u001b[1;33m\u001b[0m\u001b[0m\n\u001b[1;32m---> 15\u001b[1;33m                                 \u001b[0mprint\u001b[0m\u001b[1;33m(\u001b[0m\u001b[0mstr\u001b[0m\u001b[1;33m(\u001b[0m\u001b[0mi1\u001b[0m\u001b[1;33m)\u001b[0m \u001b[1;33m+\u001b[0m \u001b[1;34m\", \"\u001b[0m \u001b[1;33m+\u001b[0m \u001b[0mstr\u001b[0m\u001b[1;33m(\u001b[0m\u001b[0mi2\u001b[0m\u001b[1;33m)\u001b[0m \u001b[1;33m+\u001b[0m \u001b[1;34m\", \"\u001b[0m \u001b[1;33m+\u001b[0m \u001b[0mstr\u001b[0m\u001b[1;33m(\u001b[0m\u001b[0mi3\u001b[0m\u001b[1;33m)\u001b[0m \u001b[1;33m+\u001b[0m \u001b[1;34m\", \"\u001b[0m \u001b[1;33m+\u001b[0m \u001b[0mstr\u001b[0m\u001b[1;33m(\u001b[0m\u001b[0mi4\u001b[0m\u001b[1;33m)\u001b[0m \u001b[1;33m+\u001b[0m \u001b[1;34m\", \"\u001b[0m \u001b[1;33m+\u001b[0m \u001b[0mstr\u001b[0m\u001b[1;33m(\u001b[0m\u001b[0mi5\u001b[0m\u001b[1;33m)\u001b[0m \u001b[1;33m+\u001b[0m \u001b[1;34m\", \"\u001b[0m \u001b[1;33m+\u001b[0m \u001b[0mstr\u001b[0m\u001b[1;33m(\u001b[0m\u001b[0mi6\u001b[0m\u001b[1;33m)\u001b[0m \u001b[1;33m+\u001b[0m \u001b[1;34m\", \"\u001b[0m \u001b[1;33m+\u001b[0m \u001b[0mstr\u001b[0m\u001b[1;33m(\u001b[0m\u001b[0mi7\u001b[0m\u001b[1;33m)\u001b[0m \u001b[1;33m+\u001b[0m \u001b[1;34m\", \"\u001b[0m \u001b[1;33m+\u001b[0m \u001b[0mstr\u001b[0m\u001b[1;33m(\u001b[0m\u001b[0mi8\u001b[0m\u001b[1;33m)\u001b[0m \u001b[1;33m+\u001b[0m \u001b[1;34m\": \"\u001b[0m \u001b[1;33m+\u001b[0m \u001b[0mstr\u001b[0m\u001b[1;33m(\u001b[0m\u001b[0mgetIntervalInWhichAllAreNegative\u001b[0m\u001b[1;33m(\u001b[0m\u001b[0my\u001b[0m\u001b[1;33m)\u001b[0m\u001b[1;33m)\u001b[0m\u001b[1;33m)\u001b[0m\u001b[1;33m\u001b[0m\u001b[1;33m\u001b[0m\u001b[0m\n\u001b[0m",
      "\u001b[1;32m<ipython-input-18-2b3079ff856d>\u001b[0m in \u001b[0;36mgetIntervalInWhichAllAreNegative\u001b[1;34m(expectations)\u001b[0m\n\u001b[0;32m      9\u001b[0m             \u001b[0mbeta\u001b[0m \u001b[1;33m=\u001b[0m \u001b[0msp\u001b[0m\u001b[1;33m.\u001b[0m\u001b[0msolvers\u001b[0m\u001b[1;33m.\u001b[0m\u001b[0minequalities\u001b[0m\u001b[1;33m.\u001b[0m\u001b[0msolve_univariate_inequality\u001b[0m\u001b[1;33m(\u001b[0m\u001b[0mexpectations\u001b[0m\u001b[1;33m[\u001b[0m\u001b[0mi\u001b[0m\u001b[1;33m]\u001b[0m \u001b[1;33m<\u001b[0m \u001b[1;36m0\u001b[0m\u001b[1;33m,\u001b[0m \u001b[0mp\u001b[0m\u001b[1;33m)\u001b[0m\u001b[1;33m\u001b[0m\u001b[1;33m\u001b[0m\u001b[0m\n\u001b[0;32m     10\u001b[0m             \u001b[0minterval\u001b[0m \u001b[1;33m=\u001b[0m \u001b[0msp\u001b[0m\u001b[1;33m.\u001b[0m\u001b[0mAnd\u001b[0m\u001b[1;33m(\u001b[0m\u001b[0minterval\u001b[0m\u001b[1;33m,\u001b[0m \u001b[0mbeta\u001b[0m\u001b[1;33m)\u001b[0m\u001b[1;33m\u001b[0m\u001b[1;33m\u001b[0m\u001b[0m\n\u001b[1;32m---> 11\u001b[1;33m             \u001b[0minterval\u001b[0m \u001b[1;33m=\u001b[0m \u001b[0msp\u001b[0m\u001b[1;33m.\u001b[0m\u001b[0msimplify\u001b[0m\u001b[1;33m(\u001b[0m\u001b[0minterval\u001b[0m\u001b[1;33m)\u001b[0m\u001b[1;33m\u001b[0m\u001b[1;33m\u001b[0m\u001b[0m\n\u001b[0m\u001b[0;32m     12\u001b[0m             \u001b[1;32mif\u001b[0m \u001b[0minterval\u001b[0m \u001b[1;33m==\u001b[0m \u001b[0msp\u001b[0m\u001b[1;33m.\u001b[0m\u001b[0mfalse\u001b[0m\u001b[1;33m:\u001b[0m\u001b[1;33m\u001b[0m\u001b[1;33m\u001b[0m\u001b[0m\n\u001b[0;32m     13\u001b[0m                 \u001b[1;32mreturn\u001b[0m \u001b[0msp\u001b[0m\u001b[1;33m.\u001b[0m\u001b[0mfalse\u001b[0m\u001b[1;33m\u001b[0m\u001b[1;33m\u001b[0m\u001b[0m\n",
      "\u001b[1;32m~\\AppData\\Local\\Packages\\PythonSoftwareFoundation.Python.3.9_qbz5n2kfra8p0\\LocalCache\\local-packages\\Python39\\site-packages\\sympy\\simplify\\simplify.py\u001b[0m in \u001b[0;36msimplify\u001b[1;34m(expr, ratio, measure, rational, inverse, doit, **kwargs)\u001b[0m\n\u001b[0;32m    599\u001b[0m     \u001b[0m_eval_simplify\u001b[0m \u001b[1;33m=\u001b[0m \u001b[0mgetattr\u001b[0m\u001b[1;33m(\u001b[0m\u001b[0mexpr\u001b[0m\u001b[1;33m,\u001b[0m \u001b[1;34m'_eval_simplify'\u001b[0m\u001b[1;33m,\u001b[0m \u001b[1;32mNone\u001b[0m\u001b[1;33m)\u001b[0m\u001b[1;33m\u001b[0m\u001b[1;33m\u001b[0m\u001b[0m\n\u001b[0;32m    600\u001b[0m     \u001b[1;32mif\u001b[0m \u001b[0m_eval_simplify\u001b[0m \u001b[1;32mis\u001b[0m \u001b[1;32mnot\u001b[0m \u001b[1;32mNone\u001b[0m\u001b[1;33m:\u001b[0m\u001b[1;33m\u001b[0m\u001b[1;33m\u001b[0m\u001b[0m\n\u001b[1;32m--> 601\u001b[1;33m         \u001b[1;32mreturn\u001b[0m \u001b[0m_eval_simplify\u001b[0m\u001b[1;33m(\u001b[0m\u001b[1;33m**\u001b[0m\u001b[0mkwargs\u001b[0m\u001b[1;33m)\u001b[0m\u001b[1;33m\u001b[0m\u001b[1;33m\u001b[0m\u001b[0m\n\u001b[0m\u001b[0;32m    602\u001b[0m \u001b[1;33m\u001b[0m\u001b[0m\n\u001b[0;32m    603\u001b[0m     \u001b[0moriginal_expr\u001b[0m \u001b[1;33m=\u001b[0m \u001b[0mexpr\u001b[0m \u001b[1;33m=\u001b[0m \u001b[0mcollect_abs\u001b[0m\u001b[1;33m(\u001b[0m\u001b[0msignsimp\u001b[0m\u001b[1;33m(\u001b[0m\u001b[0mexpr\u001b[0m\u001b[1;33m)\u001b[0m\u001b[1;33m)\u001b[0m\u001b[1;33m\u001b[0m\u001b[1;33m\u001b[0m\u001b[0m\n",
      "\u001b[1;32m~\\AppData\\Local\\Packages\\PythonSoftwareFoundation.Python.3.9_qbz5n2kfra8p0\\LocalCache\\local-packages\\Python39\\site-packages\\sympy\\logic\\boolalg.py\u001b[0m in \u001b[0;36m_eval_simplify\u001b[1;34m(self, **kwargs)\u001b[0m\n\u001b[0;32m    652\u001b[0m         \u001b[1;32mfrom\u001b[0m \u001b[0msympy\u001b[0m\u001b[1;33m.\u001b[0m\u001b[0msolvers\u001b[0m\u001b[1;33m.\u001b[0m\u001b[0msolveset\u001b[0m \u001b[1;32mimport\u001b[0m \u001b[0mlinear_coeffs\u001b[0m\u001b[1;33m\u001b[0m\u001b[1;33m\u001b[0m\u001b[0m\n\u001b[0;32m    653\u001b[0m         \u001b[1;31m# standard simplify\u001b[0m\u001b[1;33m\u001b[0m\u001b[1;33m\u001b[0m\u001b[0m\n\u001b[1;32m--> 654\u001b[1;33m         \u001b[0mrv\u001b[0m \u001b[1;33m=\u001b[0m \u001b[0msuper\u001b[0m\u001b[1;33m(\u001b[0m\u001b[1;33m)\u001b[0m\u001b[1;33m.\u001b[0m\u001b[0m_eval_simplify\u001b[0m\u001b[1;33m(\u001b[0m\u001b[1;33m**\u001b[0m\u001b[0mkwargs\u001b[0m\u001b[1;33m)\u001b[0m\u001b[1;33m\u001b[0m\u001b[1;33m\u001b[0m\u001b[0m\n\u001b[0m\u001b[0;32m    655\u001b[0m         \u001b[1;32mif\u001b[0m \u001b[1;32mnot\u001b[0m \u001b[0misinstance\u001b[0m\u001b[1;33m(\u001b[0m\u001b[0mrv\u001b[0m\u001b[1;33m,\u001b[0m \u001b[0mAnd\u001b[0m\u001b[1;33m)\u001b[0m\u001b[1;33m:\u001b[0m\u001b[1;33m\u001b[0m\u001b[1;33m\u001b[0m\u001b[0m\n\u001b[0;32m    656\u001b[0m             \u001b[1;32mreturn\u001b[0m \u001b[0mrv\u001b[0m\u001b[1;33m\u001b[0m\u001b[1;33m\u001b[0m\u001b[0m\n",
      "\u001b[1;32m~\\AppData\\Local\\Packages\\PythonSoftwareFoundation.Python.3.9_qbz5n2kfra8p0\\LocalCache\\local-packages\\Python39\\site-packages\\sympy\\logic\\boolalg.py\u001b[0m in \u001b[0;36m_eval_simplify\u001b[1;34m(self, **kwargs)\u001b[0m\n\u001b[0;32m    473\u001b[0m             \u001b[1;32mreturn\u001b[0m \u001b[0mrv\u001b[0m\u001b[1;33m.\u001b[0m\u001b[0msimplify\u001b[0m\u001b[1;33m(\u001b[0m\u001b[1;33m**\u001b[0m\u001b[0mkwargs\u001b[0m\u001b[1;33m)\u001b[0m\u001b[1;33m\u001b[0m\u001b[1;33m\u001b[0m\u001b[0m\n\u001b[0;32m    474\u001b[0m         \u001b[0mrv\u001b[0m \u001b[1;33m=\u001b[0m \u001b[0mrv\u001b[0m\u001b[1;33m.\u001b[0m\u001b[0mfunc\u001b[0m\u001b[1;33m(\u001b[0m\u001b[1;33m*\u001b[0m\u001b[1;33m[\u001b[0m\u001b[0ma\u001b[0m\u001b[1;33m.\u001b[0m\u001b[0msimplify\u001b[0m\u001b[1;33m(\u001b[0m\u001b[1;33m**\u001b[0m\u001b[0mkwargs\u001b[0m\u001b[1;33m)\u001b[0m \u001b[1;32mfor\u001b[0m \u001b[0ma\u001b[0m \u001b[1;32min\u001b[0m \u001b[0mrv\u001b[0m\u001b[1;33m.\u001b[0m\u001b[0margs\u001b[0m\u001b[1;33m]\u001b[0m\u001b[1;33m)\u001b[0m\u001b[1;33m\u001b[0m\u001b[1;33m\u001b[0m\u001b[0m\n\u001b[1;32m--> 475\u001b[1;33m         \u001b[1;32mreturn\u001b[0m \u001b[0msimplify_logic\u001b[0m\u001b[1;33m(\u001b[0m\u001b[0mrv\u001b[0m\u001b[1;33m)\u001b[0m\u001b[1;33m\u001b[0m\u001b[1;33m\u001b[0m\u001b[0m\n\u001b[0m\u001b[0;32m    476\u001b[0m \u001b[1;33m\u001b[0m\u001b[0m\n\u001b[0;32m    477\u001b[0m     \u001b[1;32mdef\u001b[0m \u001b[0msimplify\u001b[0m\u001b[1;33m(\u001b[0m\u001b[0mself\u001b[0m\u001b[1;33m,\u001b[0m \u001b[1;33m**\u001b[0m\u001b[0mkwargs\u001b[0m\u001b[1;33m)\u001b[0m\u001b[1;33m:\u001b[0m\u001b[1;33m\u001b[0m\u001b[1;33m\u001b[0m\u001b[0m\n",
      "\u001b[1;32m~\\AppData\\Local\\Packages\\PythonSoftwareFoundation.Python.3.9_qbz5n2kfra8p0\\LocalCache\\local-packages\\Python39\\site-packages\\sympy\\logic\\boolalg.py\u001b[0m in \u001b[0;36msimplify_logic\u001b[1;34m(expr, form, deep, force)\u001b[0m\n\u001b[0;32m   2806\u001b[0m         \u001b[0mvariables\u001b[0m \u001b[1;33m=\u001b[0m \u001b[0mexpr\u001b[0m\u001b[1;33m.\u001b[0m\u001b[0matoms\u001b[0m\u001b[1;33m(\u001b[0m\u001b[0mRelational\u001b[0m\u001b[1;33m)\u001b[0m\u001b[1;33m\u001b[0m\u001b[1;33m\u001b[0m\u001b[0m\n\u001b[0;32m   2807\u001b[0m         \u001b[1;32mfrom\u001b[0m \u001b[0msympy\u001b[0m\u001b[1;33m.\u001b[0m\u001b[0msimplify\u001b[0m\u001b[1;33m.\u001b[0m\u001b[0msimplify\u001b[0m \u001b[1;32mimport\u001b[0m \u001b[0msimplify\u001b[0m\u001b[1;33m\u001b[0m\u001b[1;33m\u001b[0m\u001b[0m\n\u001b[1;32m-> 2808\u001b[1;33m         \u001b[0ms\u001b[0m \u001b[1;33m=\u001b[0m \u001b[0mtuple\u001b[0m\u001b[1;33m(\u001b[0m\u001b[0mmap\u001b[0m\u001b[1;33m(\u001b[0m\u001b[0msimplify\u001b[0m\u001b[1;33m,\u001b[0m \u001b[0mvariables\u001b[0m\u001b[1;33m)\u001b[0m\u001b[1;33m)\u001b[0m\u001b[1;33m\u001b[0m\u001b[1;33m\u001b[0m\u001b[0m\n\u001b[0m\u001b[0;32m   2809\u001b[0m         \u001b[0mexpr\u001b[0m \u001b[1;33m=\u001b[0m \u001b[0mexpr\u001b[0m\u001b[1;33m.\u001b[0m\u001b[0mxreplace\u001b[0m\u001b[1;33m(\u001b[0m\u001b[0mdict\u001b[0m\u001b[1;33m(\u001b[0m\u001b[0mzip\u001b[0m\u001b[1;33m(\u001b[0m\u001b[0mvariables\u001b[0m\u001b[1;33m,\u001b[0m \u001b[0ms\u001b[0m\u001b[1;33m)\u001b[0m\u001b[1;33m)\u001b[0m\u001b[1;33m)\u001b[0m\u001b[1;33m\u001b[0m\u001b[1;33m\u001b[0m\u001b[0m\n\u001b[0;32m   2810\u001b[0m     \u001b[1;32mif\u001b[0m \u001b[1;32mnot\u001b[0m \u001b[0misinstance\u001b[0m\u001b[1;33m(\u001b[0m\u001b[0mexpr\u001b[0m\u001b[1;33m,\u001b[0m \u001b[0mBooleanFunction\u001b[0m\u001b[1;33m)\u001b[0m\u001b[1;33m:\u001b[0m\u001b[1;33m\u001b[0m\u001b[1;33m\u001b[0m\u001b[0m\n",
      "\u001b[1;32m~\\AppData\\Local\\Packages\\PythonSoftwareFoundation.Python.3.9_qbz5n2kfra8p0\\LocalCache\\local-packages\\Python39\\site-packages\\sympy\\simplify\\simplify.py\u001b[0m in \u001b[0;36msimplify\u001b[1;34m(expr, ratio, measure, rational, inverse, doit, **kwargs)\u001b[0m\n\u001b[0;32m    599\u001b[0m     \u001b[0m_eval_simplify\u001b[0m \u001b[1;33m=\u001b[0m \u001b[0mgetattr\u001b[0m\u001b[1;33m(\u001b[0m\u001b[0mexpr\u001b[0m\u001b[1;33m,\u001b[0m \u001b[1;34m'_eval_simplify'\u001b[0m\u001b[1;33m,\u001b[0m \u001b[1;32mNone\u001b[0m\u001b[1;33m)\u001b[0m\u001b[1;33m\u001b[0m\u001b[1;33m\u001b[0m\u001b[0m\n\u001b[0;32m    600\u001b[0m     \u001b[1;32mif\u001b[0m \u001b[0m_eval_simplify\u001b[0m \u001b[1;32mis\u001b[0m \u001b[1;32mnot\u001b[0m \u001b[1;32mNone\u001b[0m\u001b[1;33m:\u001b[0m\u001b[1;33m\u001b[0m\u001b[1;33m\u001b[0m\u001b[0m\n\u001b[1;32m--> 601\u001b[1;33m         \u001b[1;32mreturn\u001b[0m \u001b[0m_eval_simplify\u001b[0m\u001b[1;33m(\u001b[0m\u001b[1;33m**\u001b[0m\u001b[0mkwargs\u001b[0m\u001b[1;33m)\u001b[0m\u001b[1;33m\u001b[0m\u001b[1;33m\u001b[0m\u001b[0m\n\u001b[0m\u001b[0;32m    602\u001b[0m \u001b[1;33m\u001b[0m\u001b[0m\n\u001b[0;32m    603\u001b[0m     \u001b[0moriginal_expr\u001b[0m \u001b[1;33m=\u001b[0m \u001b[0mexpr\u001b[0m \u001b[1;33m=\u001b[0m \u001b[0mcollect_abs\u001b[0m\u001b[1;33m(\u001b[0m\u001b[0msignsimp\u001b[0m\u001b[1;33m(\u001b[0m\u001b[0mexpr\u001b[0m\u001b[1;33m)\u001b[0m\u001b[1;33m)\u001b[0m\u001b[1;33m\u001b[0m\u001b[1;33m\u001b[0m\u001b[0m\n",
      "\u001b[1;32m~\\AppData\\Local\\Packages\\PythonSoftwareFoundation.Python.3.9_qbz5n2kfra8p0\\LocalCache\\local-packages\\Python39\\site-packages\\sympy\\core\\relational.py\u001b[0m in \u001b[0;36m_eval_simplify\u001b[1;34m(self, **kwargs)\u001b[0m\n\u001b[0;32m    427\u001b[0m             \u001b[1;32mif\u001b[0m \u001b[0mdif\u001b[0m\u001b[1;33m.\u001b[0m\u001b[0mis_comparable\u001b[0m\u001b[1;33m:\u001b[0m\u001b[1;33m\u001b[0m\u001b[1;33m\u001b[0m\u001b[0m\n\u001b[0;32m    428\u001b[0m                 \u001b[0mv\u001b[0m \u001b[1;33m=\u001b[0m \u001b[0mdif\u001b[0m\u001b[1;33m.\u001b[0m\u001b[0mn\u001b[0m\u001b[1;33m(\u001b[0m\u001b[1;36m2\u001b[0m\u001b[1;33m)\u001b[0m\u001b[1;33m\u001b[0m\u001b[1;33m\u001b[0m\u001b[0m\n\u001b[1;32m--> 429\u001b[1;33m             \u001b[1;32melif\u001b[0m \u001b[0mdif\u001b[0m\u001b[1;33m.\u001b[0m\u001b[0mequals\u001b[0m\u001b[1;33m(\u001b[0m\u001b[1;36m0\u001b[0m\u001b[1;33m)\u001b[0m\u001b[1;33m:\u001b[0m  \u001b[1;31m# XXX this is expensive\u001b[0m\u001b[1;33m\u001b[0m\u001b[1;33m\u001b[0m\u001b[0m\n\u001b[0m\u001b[0;32m    430\u001b[0m                 \u001b[0mv\u001b[0m \u001b[1;33m=\u001b[0m \u001b[0mS\u001b[0m\u001b[1;33m.\u001b[0m\u001b[0mZero\u001b[0m\u001b[1;33m\u001b[0m\u001b[1;33m\u001b[0m\u001b[0m\n\u001b[0;32m    431\u001b[0m             \u001b[1;32mif\u001b[0m \u001b[0mv\u001b[0m \u001b[1;32mis\u001b[0m \u001b[1;32mnot\u001b[0m \u001b[1;32mNone\u001b[0m\u001b[1;33m:\u001b[0m\u001b[1;33m\u001b[0m\u001b[1;33m\u001b[0m\u001b[0m\n",
      "\u001b[1;32m~\\AppData\\Local\\Packages\\PythonSoftwareFoundation.Python.3.9_qbz5n2kfra8p0\\LocalCache\\local-packages\\Python39\\site-packages\\sympy\\core\\expr.py\u001b[0m in \u001b[0;36mequals\u001b[1;34m(self, other, failing_expression)\u001b[0m\n\u001b[0;32m    755\u001b[0m                 \u001b[1;32mreturn\u001b[0m \u001b[0many\u001b[0m\u001b[1;33m(\u001b[0m\u001b[0mfac_zero\u001b[0m\u001b[1;33m)\u001b[0m\u001b[1;33m\u001b[0m\u001b[1;33m\u001b[0m\u001b[0m\n\u001b[0;32m    756\u001b[0m \u001b[1;33m\u001b[0m\u001b[0m\n\u001b[1;32m--> 757\u001b[1;33m         \u001b[0mconstant\u001b[0m \u001b[1;33m=\u001b[0m \u001b[0mdiff\u001b[0m\u001b[1;33m.\u001b[0m\u001b[0mis_constant\u001b[0m\u001b[1;33m(\u001b[0m\u001b[0msimplify\u001b[0m\u001b[1;33m=\u001b[0m\u001b[1;32mFalse\u001b[0m\u001b[1;33m,\u001b[0m \u001b[0mfailing_number\u001b[0m\u001b[1;33m=\u001b[0m\u001b[1;32mTrue\u001b[0m\u001b[1;33m)\u001b[0m\u001b[1;33m\u001b[0m\u001b[1;33m\u001b[0m\u001b[0m\n\u001b[0m\u001b[0;32m    758\u001b[0m \u001b[1;33m\u001b[0m\u001b[0m\n\u001b[0;32m    759\u001b[0m         \u001b[1;32mif\u001b[0m \u001b[0mconstant\u001b[0m \u001b[1;32mis\u001b[0m \u001b[1;32mFalse\u001b[0m\u001b[1;33m:\u001b[0m\u001b[1;33m\u001b[0m\u001b[1;33m\u001b[0m\u001b[0m\n",
      "\u001b[1;32m~\\AppData\\Local\\Packages\\PythonSoftwareFoundation.Python.3.9_qbz5n2kfra8p0\\LocalCache\\local-packages\\Python39\\site-packages\\sympy\\core\\expr.py\u001b[0m in \u001b[0;36mis_constant\u001b[1;34m(self, *wrt, **flags)\u001b[0m\n\u001b[0;32m    682\u001b[0m                     \u001b[1;32mreturn\u001b[0m \u001b[1;32mFalse\u001b[0m\u001b[1;33m\u001b[0m\u001b[1;33m\u001b[0m\u001b[0m\n\u001b[0;32m    683\u001b[0m                 \u001b[1;31m# try random complex\u001b[0m\u001b[1;33m\u001b[0m\u001b[1;33m\u001b[0m\u001b[0m\n\u001b[1;32m--> 684\u001b[1;33m                 \u001b[0mb\u001b[0m \u001b[1;33m=\u001b[0m \u001b[0mexpr\u001b[0m\u001b[1;33m.\u001b[0m\u001b[0m_random\u001b[0m\u001b[1;33m(\u001b[0m\u001b[1;33m)\u001b[0m\u001b[1;33m\u001b[0m\u001b[1;33m\u001b[0m\u001b[0m\n\u001b[0m\u001b[0;32m    685\u001b[0m                 \u001b[1;32mif\u001b[0m \u001b[0mb\u001b[0m \u001b[1;32mis\u001b[0m \u001b[1;32mnot\u001b[0m \u001b[1;32mNone\u001b[0m \u001b[1;32mand\u001b[0m \u001b[0mb\u001b[0m \u001b[1;32mis\u001b[0m \u001b[1;32mnot\u001b[0m \u001b[0mS\u001b[0m\u001b[1;33m.\u001b[0m\u001b[0mNaN\u001b[0m\u001b[1;33m:\u001b[0m\u001b[1;33m\u001b[0m\u001b[1;33m\u001b[0m\u001b[0m\n\u001b[0;32m    686\u001b[0m                     \u001b[1;32mif\u001b[0m \u001b[0mb\u001b[0m\u001b[1;33m.\u001b[0m\u001b[0mequals\u001b[0m\u001b[1;33m(\u001b[0m\u001b[0ma\u001b[0m\u001b[1;33m)\u001b[0m \u001b[1;32mis\u001b[0m \u001b[1;32mFalse\u001b[0m\u001b[1;33m:\u001b[0m\u001b[1;33m\u001b[0m\u001b[1;33m\u001b[0m\u001b[0m\n",
      "\u001b[1;32m~\\AppData\\Local\\Packages\\PythonSoftwareFoundation.Python.3.9_qbz5n2kfra8p0\\LocalCache\\local-packages\\Python39\\site-packages\\sympy\\core\\expr.py\u001b[0m in \u001b[0;36m_random\u001b[1;34m(self, n, re_min, im_min, re_max, im_max)\u001b[0m\n\u001b[0;32m    499\u001b[0m             \u001b[1;32mfrom\u001b[0m \u001b[0msympy\u001b[0m\u001b[1;33m.\u001b[0m\u001b[0mcore\u001b[0m\u001b[1;33m.\u001b[0m\u001b[0mrandom\u001b[0m \u001b[1;32mimport\u001b[0m \u001b[0mrandom_complex_number\u001b[0m\u001b[1;33m\u001b[0m\u001b[1;33m\u001b[0m\u001b[0m\n\u001b[0;32m    500\u001b[0m             \u001b[0ma\u001b[0m\u001b[1;33m,\u001b[0m \u001b[0mc\u001b[0m\u001b[1;33m,\u001b[0m \u001b[0mb\u001b[0m\u001b[1;33m,\u001b[0m \u001b[0md\u001b[0m \u001b[1;33m=\u001b[0m \u001b[0mre_min\u001b[0m\u001b[1;33m,\u001b[0m \u001b[0mre_max\u001b[0m\u001b[1;33m,\u001b[0m \u001b[0mim_min\u001b[0m\u001b[1;33m,\u001b[0m \u001b[0mim_max\u001b[0m\u001b[1;33m\u001b[0m\u001b[1;33m\u001b[0m\u001b[0m\n\u001b[1;32m--> 501\u001b[1;33m             reps = dict(list(zip(free, [random_complex_number(a, b, c, d, rational=True)\n\u001b[0m\u001b[0;32m    502\u001b[0m                            for zi in free])))\n\u001b[0;32m    503\u001b[0m             \u001b[1;32mtry\u001b[0m\u001b[1;33m:\u001b[0m\u001b[1;33m\u001b[0m\u001b[1;33m\u001b[0m\u001b[0m\n",
      "\u001b[1;32m~\\AppData\\Local\\Packages\\PythonSoftwareFoundation.Python.3.9_qbz5n2kfra8p0\\LocalCache\\local-packages\\Python39\\site-packages\\sympy\\core\\expr.py\u001b[0m in \u001b[0;36m<listcomp>\u001b[1;34m(.0)\u001b[0m\n\u001b[0;32m    499\u001b[0m             \u001b[1;32mfrom\u001b[0m \u001b[0msympy\u001b[0m\u001b[1;33m.\u001b[0m\u001b[0mcore\u001b[0m\u001b[1;33m.\u001b[0m\u001b[0mrandom\u001b[0m \u001b[1;32mimport\u001b[0m \u001b[0mrandom_complex_number\u001b[0m\u001b[1;33m\u001b[0m\u001b[1;33m\u001b[0m\u001b[0m\n\u001b[0;32m    500\u001b[0m             \u001b[0ma\u001b[0m\u001b[1;33m,\u001b[0m \u001b[0mc\u001b[0m\u001b[1;33m,\u001b[0m \u001b[0mb\u001b[0m\u001b[1;33m,\u001b[0m \u001b[0md\u001b[0m \u001b[1;33m=\u001b[0m \u001b[0mre_min\u001b[0m\u001b[1;33m,\u001b[0m \u001b[0mre_max\u001b[0m\u001b[1;33m,\u001b[0m \u001b[0mim_min\u001b[0m\u001b[1;33m,\u001b[0m \u001b[0mim_max\u001b[0m\u001b[1;33m\u001b[0m\u001b[1;33m\u001b[0m\u001b[0m\n\u001b[1;32m--> 501\u001b[1;33m             reps = dict(list(zip(free, [random_complex_number(a, b, c, d, rational=True)\n\u001b[0m\u001b[0;32m    502\u001b[0m                            for zi in free])))\n\u001b[0;32m    503\u001b[0m             \u001b[1;32mtry\u001b[0m\u001b[1;33m:\u001b[0m\u001b[1;33m\u001b[0m\u001b[1;33m\u001b[0m\u001b[0m\n",
      "\u001b[1;32m~\\AppData\\Local\\Packages\\PythonSoftwareFoundation.Python.3.9_qbz5n2kfra8p0\\LocalCache\\local-packages\\Python39\\site-packages\\sympy\\core\\random.py\u001b[0m in \u001b[0;36mrandom_complex_number\u001b[1;34m(a, b, c, d, rational, tolerance)\u001b[0m\n\u001b[0;32m     52\u001b[0m     \u001b[1;32mif\u001b[0m \u001b[1;32mnot\u001b[0m \u001b[0mrational\u001b[0m\u001b[1;33m:\u001b[0m\u001b[1;33m\u001b[0m\u001b[1;33m\u001b[0m\u001b[0m\n\u001b[0;32m     53\u001b[0m         \u001b[1;32mreturn\u001b[0m \u001b[0mA\u001b[0m \u001b[1;33m+\u001b[0m \u001b[0mI\u001b[0m\u001b[1;33m*\u001b[0m\u001b[0mB\u001b[0m\u001b[1;33m\u001b[0m\u001b[1;33m\u001b[0m\u001b[0m\n\u001b[1;32m---> 54\u001b[1;33m     return (nsimplify(A, rational=True, tolerance=tolerance) +\n\u001b[0m\u001b[0;32m     55\u001b[0m         I*nsimplify(B, rational=True, tolerance=tolerance))\n\u001b[0;32m     56\u001b[0m \u001b[1;33m\u001b[0m\u001b[0m\n",
      "\u001b[1;32m~\\AppData\\Local\\Packages\\PythonSoftwareFoundation.Python.3.9_qbz5n2kfra8p0\\LocalCache\\local-packages\\Python39\\site-packages\\sympy\\simplify\\simplify.py\u001b[0m in \u001b[0;36mnsimplify\u001b[1;34m(expr, constants, tolerance, full, rational, rational_conversion)\u001b[0m\n\u001b[0;32m   1438\u001b[0m         \u001b[1;32mreturn\u001b[0m \u001b[0mexpr\u001b[0m\u001b[1;33m\u001b[0m\u001b[1;33m\u001b[0m\u001b[0m\n\u001b[0;32m   1439\u001b[0m     \u001b[1;32mif\u001b[0m \u001b[0mrational\u001b[0m \u001b[1;32mor\u001b[0m \u001b[0mexpr\u001b[0m\u001b[1;33m.\u001b[0m\u001b[0mfree_symbols\u001b[0m\u001b[1;33m:\u001b[0m\u001b[1;33m\u001b[0m\u001b[1;33m\u001b[0m\u001b[0m\n\u001b[1;32m-> 1440\u001b[1;33m         \u001b[1;32mreturn\u001b[0m \u001b[0m_real_to_rational\u001b[0m\u001b[1;33m(\u001b[0m\u001b[0mexpr\u001b[0m\u001b[1;33m,\u001b[0m \u001b[0mtolerance\u001b[0m\u001b[1;33m,\u001b[0m \u001b[0mrational_conversion\u001b[0m\u001b[1;33m)\u001b[0m\u001b[1;33m\u001b[0m\u001b[1;33m\u001b[0m\u001b[0m\n\u001b[0m\u001b[0;32m   1441\u001b[0m \u001b[1;33m\u001b[0m\u001b[0m\n\u001b[0;32m   1442\u001b[0m     \u001b[1;31m# SymPy's default tolerance for Rationals is 15; other numbers may have\u001b[0m\u001b[1;33m\u001b[0m\u001b[1;33m\u001b[0m\u001b[0m\n",
      "\u001b[1;32m~\\AppData\\Local\\Packages\\PythonSoftwareFoundation.Python.3.9_qbz5n2kfra8p0\\LocalCache\\local-packages\\Python39\\site-packages\\sympy\\simplify\\simplify.py\u001b[0m in \u001b[0;36m_real_to_rational\u001b[1;34m(expr, tolerance, rational_conversion)\u001b[0m\n\u001b[0;32m   1557\u001b[0m                 \u001b[1;32mraise\u001b[0m \u001b[0mValueError\u001b[0m\u001b[1;33m(\u001b[0m\u001b[1;34m\"rational_conversion must be 'base10' or 'exact'\"\u001b[0m\u001b[1;33m)\u001b[0m\u001b[1;33m\u001b[0m\u001b[1;33m\u001b[0m\u001b[0m\n\u001b[0;32m   1558\u001b[0m \u001b[1;33m\u001b[0m\u001b[0m\n\u001b[1;32m-> 1559\u001b[1;33m             \u001b[0mr\u001b[0m \u001b[1;33m=\u001b[0m \u001b[0mnsimplify\u001b[0m\u001b[1;33m(\u001b[0m\u001b[0mfl\u001b[0m\u001b[1;33m,\u001b[0m \u001b[0mrational\u001b[0m\u001b[1;33m=\u001b[0m\u001b[1;32mFalse\u001b[0m\u001b[1;33m)\u001b[0m\u001b[1;33m\u001b[0m\u001b[1;33m\u001b[0m\u001b[0m\n\u001b[0m\u001b[0;32m   1560\u001b[0m             \u001b[1;31m# e.g. log(3).n() -> log(3) instead of a Rational\u001b[0m\u001b[1;33m\u001b[0m\u001b[1;33m\u001b[0m\u001b[0m\n\u001b[0;32m   1561\u001b[0m             \u001b[1;32mif\u001b[0m \u001b[0mfl\u001b[0m \u001b[1;32mand\u001b[0m \u001b[1;32mnot\u001b[0m \u001b[0mr\u001b[0m\u001b[1;33m:\u001b[0m\u001b[1;33m\u001b[0m\u001b[1;33m\u001b[0m\u001b[0m\n",
      "\u001b[1;32m~\\AppData\\Local\\Packages\\PythonSoftwareFoundation.Python.3.9_qbz5n2kfra8p0\\LocalCache\\local-packages\\Python39\\site-packages\\sympy\\simplify\\simplify.py\u001b[0m in \u001b[0;36mnsimplify\u001b[1;34m(expr, constants, tolerance, full, rational, rational_conversion)\u001b[0m\n\u001b[0;32m   1496\u001b[0m     \u001b[1;32mtry\u001b[0m\u001b[1;33m:\u001b[0m\u001b[1;33m\u001b[0m\u001b[1;33m\u001b[0m\u001b[0m\n\u001b[0;32m   1497\u001b[0m         \u001b[1;32mif\u001b[0m \u001b[0mre\u001b[0m\u001b[1;33m:\u001b[0m\u001b[1;33m\u001b[0m\u001b[1;33m\u001b[0m\u001b[0m\n\u001b[1;32m-> 1498\u001b[1;33m             \u001b[0mre\u001b[0m \u001b[1;33m=\u001b[0m \u001b[0mnsimplify_real\u001b[0m\u001b[1;33m(\u001b[0m\u001b[0mre\u001b[0m\u001b[1;33m)\u001b[0m\u001b[1;33m\u001b[0m\u001b[1;33m\u001b[0m\u001b[0m\n\u001b[0m\u001b[0;32m   1499\u001b[0m         \u001b[1;32mif\u001b[0m \u001b[0mim\u001b[0m\u001b[1;33m:\u001b[0m\u001b[1;33m\u001b[0m\u001b[1;33m\u001b[0m\u001b[0m\n\u001b[0;32m   1500\u001b[0m             \u001b[0mim\u001b[0m \u001b[1;33m=\u001b[0m \u001b[0mnsimplify_real\u001b[0m\u001b[1;33m(\u001b[0m\u001b[0mim\u001b[0m\u001b[1;33m)\u001b[0m\u001b[1;33m\u001b[0m\u001b[1;33m\u001b[0m\u001b[0m\n",
      "\u001b[1;32m~\\AppData\\Local\\Packages\\PythonSoftwareFoundation.Python.3.9_qbz5n2kfra8p0\\LocalCache\\local-packages\\Python39\\site-packages\\sympy\\simplify\\simplify.py\u001b[0m in \u001b[0;36mnsimplify_real\u001b[1;34m(x)\u001b[0m\n\u001b[0;32m   1478\u001b[0m                     \u001b[1;32mreturn\u001b[0m \u001b[0mRational\u001b[0m\u001b[1;33m(\u001b[0m\u001b[1;33m-\u001b[0m\u001b[0mint\u001b[0m\u001b[1;33m(\u001b[0m\u001b[0mrat\u001b[0m\u001b[1;33m[\u001b[0m\u001b[1;36m1\u001b[0m\u001b[1;33m]\u001b[0m\u001b[1;33m)\u001b[0m\u001b[1;33m,\u001b[0m \u001b[0mint\u001b[0m\u001b[1;33m(\u001b[0m\u001b[0mrat\u001b[0m\u001b[1;33m[\u001b[0m\u001b[1;36m0\u001b[0m\u001b[1;33m]\u001b[0m\u001b[1;33m)\u001b[0m\u001b[1;33m)\u001b[0m\u001b[1;33m\u001b[0m\u001b[1;33m\u001b[0m\u001b[0m\n\u001b[0;32m   1479\u001b[0m             \u001b[0mmpmath\u001b[0m\u001b[1;33m.\u001b[0m\u001b[0mmp\u001b[0m\u001b[1;33m.\u001b[0m\u001b[0mdps\u001b[0m \u001b[1;33m=\u001b[0m \u001b[0mprec\u001b[0m\u001b[1;33m\u001b[0m\u001b[1;33m\u001b[0m\u001b[0m\n\u001b[1;32m-> 1480\u001b[1;33m             newexpr = mpmath.identify(xv, constants=constants_dict,\n\u001b[0m\u001b[0;32m   1481\u001b[0m                 tol=tolerance, full=full)\n\u001b[0;32m   1482\u001b[0m             \u001b[1;32mif\u001b[0m \u001b[1;32mnot\u001b[0m \u001b[0mnewexpr\u001b[0m\u001b[1;33m:\u001b[0m\u001b[1;33m\u001b[0m\u001b[1;33m\u001b[0m\u001b[0m\n",
      "\u001b[1;32m~\\AppData\\Local\\Packages\\PythonSoftwareFoundation.Python.3.9_qbz5n2kfra8p0\\LocalCache\\local-packages\\Python39\\site-packages\\mpmath\\identification.py\u001b[0m in \u001b[0;36midentify\u001b[1;34m(ctx, x, constants, tol, maxcoeff, full, verbose)\u001b[0m\n\u001b[0;32m    756\u001b[0m         \u001b[1;32melse\u001b[0m\u001b[1;33m:\u001b[0m    \u001b[1;32mreturn\u001b[0m \u001b[1;34m'0'\u001b[0m\u001b[1;33m\u001b[0m\u001b[1;33m\u001b[0m\u001b[0m\n\u001b[0;32m    757\u001b[0m     \u001b[1;32mif\u001b[0m \u001b[0mx\u001b[0m \u001b[1;33m<\u001b[0m \u001b[1;36m0\u001b[0m\u001b[1;33m:\u001b[0m\u001b[1;33m\u001b[0m\u001b[1;33m\u001b[0m\u001b[0m\n\u001b[1;32m--> 758\u001b[1;33m         \u001b[0msol\u001b[0m \u001b[1;33m=\u001b[0m \u001b[0mctx\u001b[0m\u001b[1;33m.\u001b[0m\u001b[0midentify\u001b[0m\u001b[1;33m(\u001b[0m\u001b[1;33m-\u001b[0m\u001b[0mx\u001b[0m\u001b[1;33m,\u001b[0m \u001b[0mconstants\u001b[0m\u001b[1;33m,\u001b[0m \u001b[0mtol\u001b[0m\u001b[1;33m,\u001b[0m \u001b[0mmaxcoeff\u001b[0m\u001b[1;33m,\u001b[0m \u001b[0mfull\u001b[0m\u001b[1;33m,\u001b[0m \u001b[0mverbose\u001b[0m\u001b[1;33m)\u001b[0m\u001b[1;33m\u001b[0m\u001b[1;33m\u001b[0m\u001b[0m\n\u001b[0m\u001b[0;32m    759\u001b[0m         \u001b[1;32mif\u001b[0m \u001b[0msol\u001b[0m \u001b[1;32mis\u001b[0m \u001b[1;32mNone\u001b[0m\u001b[1;33m:\u001b[0m\u001b[1;33m\u001b[0m\u001b[1;33m\u001b[0m\u001b[0m\n\u001b[0;32m    760\u001b[0m             \u001b[1;32mreturn\u001b[0m \u001b[0msol\u001b[0m\u001b[1;33m\u001b[0m\u001b[1;33m\u001b[0m\u001b[0m\n",
      "\u001b[1;32m~\\AppData\\Local\\Packages\\PythonSoftwareFoundation.Python.3.9_qbz5n2kfra8p0\\LocalCache\\local-packages\\Python39\\site-packages\\mpmath\\identification.py\u001b[0m in \u001b[0;36midentify\u001b[1;34m(ctx, x, constants, tol, maxcoeff, full, verbose)\u001b[0m\n\u001b[0;32m    825\u001b[0m                 \u001b[0mlogs\u001b[0m\u001b[1;33m.\u001b[0m\u001b[0mappend\u001b[0m\u001b[1;33m(\u001b[0m\u001b[1;33m(\u001b[0m\u001b[0mctx\u001b[0m\u001b[1;33m.\u001b[0m\u001b[0mln\u001b[0m\u001b[1;33m(\u001b[0m\u001b[0ma\u001b[0m\u001b[1;33m)\u001b[0m\u001b[1;33m,\u001b[0m \u001b[0ms\u001b[0m\u001b[1;33m)\u001b[0m\u001b[1;33m)\u001b[0m\u001b[1;33m\u001b[0m\u001b[1;33m\u001b[0m\u001b[0m\n\u001b[0;32m    826\u001b[0m         \u001b[0mlogs\u001b[0m \u001b[1;33m=\u001b[0m \u001b[1;33m[\u001b[0m\u001b[1;33m(\u001b[0m\u001b[0mctx\u001b[0m\u001b[1;33m.\u001b[0m\u001b[0mln\u001b[0m\u001b[1;33m(\u001b[0m\u001b[0mi\u001b[0m\u001b[1;33m)\u001b[0m\u001b[1;33m,\u001b[0m\u001b[0mstr\u001b[0m\u001b[1;33m(\u001b[0m\u001b[0mi\u001b[0m\u001b[1;33m)\u001b[0m\u001b[1;33m)\u001b[0m \u001b[1;32mfor\u001b[0m \u001b[0mi\u001b[0m \u001b[1;32min\u001b[0m \u001b[0milogs\u001b[0m\u001b[1;33m]\u001b[0m \u001b[1;33m+\u001b[0m \u001b[0mlogs\u001b[0m\u001b[1;33m\u001b[0m\u001b[1;33m\u001b[0m\u001b[0m\n\u001b[1;32m--> 827\u001b[1;33m         \u001b[0mr\u001b[0m \u001b[1;33m=\u001b[0m \u001b[0mctx\u001b[0m\u001b[1;33m.\u001b[0m\u001b[0mpslq\u001b[0m\u001b[1;33m(\u001b[0m\u001b[1;33m[\u001b[0m\u001b[0mctx\u001b[0m\u001b[1;33m.\u001b[0m\u001b[0mln\u001b[0m\u001b[1;33m(\u001b[0m\u001b[0mx\u001b[0m\u001b[1;33m)\u001b[0m\u001b[1;33m]\u001b[0m \u001b[1;33m+\u001b[0m \u001b[1;33m[\u001b[0m\u001b[0ma\u001b[0m\u001b[1;33m[\u001b[0m\u001b[1;36m0\u001b[0m\u001b[1;33m]\u001b[0m \u001b[1;32mfor\u001b[0m \u001b[0ma\u001b[0m \u001b[1;32min\u001b[0m \u001b[0mlogs\u001b[0m\u001b[1;33m]\u001b[0m\u001b[1;33m,\u001b[0m \u001b[0mtol\u001b[0m\u001b[1;33m,\u001b[0m \u001b[0mM\u001b[0m\u001b[1;33m)\u001b[0m\u001b[1;33m\u001b[0m\u001b[1;33m\u001b[0m\u001b[0m\n\u001b[0m\u001b[0;32m    828\u001b[0m         \u001b[1;32mif\u001b[0m \u001b[0mr\u001b[0m \u001b[1;32mis\u001b[0m \u001b[1;32mnot\u001b[0m \u001b[1;32mNone\u001b[0m \u001b[1;32mand\u001b[0m \u001b[0mmax\u001b[0m\u001b[1;33m(\u001b[0m\u001b[0mabs\u001b[0m\u001b[1;33m(\u001b[0m\u001b[0muw\u001b[0m\u001b[1;33m)\u001b[0m \u001b[1;32mfor\u001b[0m \u001b[0muw\u001b[0m \u001b[1;32min\u001b[0m \u001b[0mr\u001b[0m\u001b[1;33m)\u001b[0m \u001b[1;33m<=\u001b[0m \u001b[0mM\u001b[0m \u001b[1;32mand\u001b[0m \u001b[0mr\u001b[0m\u001b[1;33m[\u001b[0m\u001b[1;36m0\u001b[0m\u001b[1;33m]\u001b[0m\u001b[1;33m:\u001b[0m\u001b[1;33m\u001b[0m\u001b[1;33m\u001b[0m\u001b[0m\n\u001b[0;32m    829\u001b[0m             \u001b[0maddsolution\u001b[0m\u001b[1;33m(\u001b[0m\u001b[0mprodstring\u001b[0m\u001b[1;33m(\u001b[0m\u001b[0mr\u001b[0m\u001b[1;33m,\u001b[0m \u001b[0mlogs\u001b[0m\u001b[1;33m)\u001b[0m\u001b[1;33m)\u001b[0m\u001b[1;33m\u001b[0m\u001b[1;33m\u001b[0m\u001b[0m\n",
      "\u001b[1;32m~\\AppData\\Local\\Packages\\PythonSoftwareFoundation.Python.3.9_qbz5n2kfra8p0\\LocalCache\\local-packages\\Python39\\site-packages\\mpmath\\identification.py\u001b[0m in \u001b[0;36mpslq\u001b[1;34m(ctx, x, tol, maxcoeff, maxsteps, verbose)\u001b[0m\n\u001b[0;32m    293\u001b[0m         \u001b[1;31m# more exactly (using the Euclidean norm) but there is probably\u001b[0m\u001b[1;33m\u001b[0m\u001b[1;33m\u001b[0m\u001b[0m\n\u001b[0;32m    294\u001b[0m         \u001b[1;31m# no practical benefit.\u001b[0m\u001b[1;33m\u001b[0m\u001b[1;33m\u001b[0m\u001b[0m\n\u001b[1;32m--> 295\u001b[1;33m         \u001b[0mrecnorm\u001b[0m \u001b[1;33m=\u001b[0m \u001b[0mmax\u001b[0m\u001b[1;33m(\u001b[0m\u001b[0mabs\u001b[0m\u001b[1;33m(\u001b[0m\u001b[0mh\u001b[0m\u001b[1;33m)\u001b[0m \u001b[1;32mfor\u001b[0m \u001b[0mh\u001b[0m \u001b[1;32min\u001b[0m \u001b[0mH\u001b[0m\u001b[1;33m.\u001b[0m\u001b[0mvalues\u001b[0m\u001b[1;33m(\u001b[0m\u001b[1;33m)\u001b[0m\u001b[1;33m)\u001b[0m\u001b[1;33m\u001b[0m\u001b[1;33m\u001b[0m\u001b[0m\n\u001b[0m\u001b[0;32m    296\u001b[0m         \u001b[1;32mif\u001b[0m \u001b[0mrecnorm\u001b[0m\u001b[1;33m:\u001b[0m\u001b[1;33m\u001b[0m\u001b[1;33m\u001b[0m\u001b[0m\n\u001b[0;32m    297\u001b[0m             \u001b[0mnorm\u001b[0m \u001b[1;33m=\u001b[0m \u001b[1;33m(\u001b[0m\u001b[1;33m(\u001b[0m\u001b[1;36m1\u001b[0m \u001b[1;33m<<\u001b[0m \u001b[1;33m(\u001b[0m\u001b[1;36m2\u001b[0m\u001b[1;33m*\u001b[0m\u001b[0mprec\u001b[0m\u001b[1;33m)\u001b[0m\u001b[1;33m)\u001b[0m \u001b[1;33m//\u001b[0m \u001b[0mrecnorm\u001b[0m\u001b[1;33m)\u001b[0m \u001b[1;33m>>\u001b[0m \u001b[0mprec\u001b[0m\u001b[1;33m\u001b[0m\u001b[1;33m\u001b[0m\u001b[0m\n",
      "\u001b[1;32m~\\AppData\\Local\\Packages\\PythonSoftwareFoundation.Python.3.9_qbz5n2kfra8p0\\LocalCache\\local-packages\\Python39\\site-packages\\mpmath\\identification.py\u001b[0m in \u001b[0;36m<genexpr>\u001b[1;34m(.0)\u001b[0m\n\u001b[0;32m    293\u001b[0m         \u001b[1;31m# more exactly (using the Euclidean norm) but there is probably\u001b[0m\u001b[1;33m\u001b[0m\u001b[1;33m\u001b[0m\u001b[0m\n\u001b[0;32m    294\u001b[0m         \u001b[1;31m# no practical benefit.\u001b[0m\u001b[1;33m\u001b[0m\u001b[1;33m\u001b[0m\u001b[0m\n\u001b[1;32m--> 295\u001b[1;33m         \u001b[0mrecnorm\u001b[0m \u001b[1;33m=\u001b[0m \u001b[0mmax\u001b[0m\u001b[1;33m(\u001b[0m\u001b[0mabs\u001b[0m\u001b[1;33m(\u001b[0m\u001b[0mh\u001b[0m\u001b[1;33m)\u001b[0m \u001b[1;32mfor\u001b[0m \u001b[0mh\u001b[0m \u001b[1;32min\u001b[0m \u001b[0mH\u001b[0m\u001b[1;33m.\u001b[0m\u001b[0mvalues\u001b[0m\u001b[1;33m(\u001b[0m\u001b[1;33m)\u001b[0m\u001b[1;33m)\u001b[0m\u001b[1;33m\u001b[0m\u001b[1;33m\u001b[0m\u001b[0m\n\u001b[0m\u001b[0;32m    296\u001b[0m         \u001b[1;32mif\u001b[0m \u001b[0mrecnorm\u001b[0m\u001b[1;33m:\u001b[0m\u001b[1;33m\u001b[0m\u001b[1;33m\u001b[0m\u001b[0m\n\u001b[0;32m    297\u001b[0m             \u001b[0mnorm\u001b[0m \u001b[1;33m=\u001b[0m \u001b[1;33m(\u001b[0m\u001b[1;33m(\u001b[0m\u001b[1;36m1\u001b[0m \u001b[1;33m<<\u001b[0m \u001b[1;33m(\u001b[0m\u001b[1;36m2\u001b[0m\u001b[1;33m*\u001b[0m\u001b[0mprec\u001b[0m\u001b[1;33m)\u001b[0m\u001b[1;33m)\u001b[0m \u001b[1;33m//\u001b[0m \u001b[0mrecnorm\u001b[0m\u001b[1;33m)\u001b[0m \u001b[1;33m>>\u001b[0m \u001b[0mprec\u001b[0m\u001b[1;33m\u001b[0m\u001b[1;33m\u001b[0m\u001b[0m\n",
      "\u001b[1;31mKeyboardInterrupt\u001b[0m: "
     ]
    }
   ],
   "source": [
    "pats = np.array([\"000\", \"001\", \"010\", \"011\", \"100\", \"101\", \"110\", \"111\"])\n",
    "x = getAllDifferencesOnExpectationWithGivenPatterns(pats)\n",
    "t1 = 1\n",
    "t2 = 11\n",
    "t3 = 5\n",
    "for i1 in range(t1, t2, t3):\n",
    "    for i2 in range(t1, t2, t3):\n",
    "        for i3 in range(-t2, -t1, t3):\n",
    "            for i4 in range(t1, t2, t3):\n",
    "                for i5 in range(t1, t2, t3):\n",
    "                    for i6 in range(-t2, -t1, t3):\n",
    "                        for i7 in range(t1, t2, t3):\n",
    "                            for i8 in range(t1, t2, t3):\n",
    "                                y = np.dot(np.array([i1, i2, i3, i4, i5, i6, i7, i8]), x)\n",
    "                                print(str(i1) + \", \" + str(i2) + \", \" + str(i3) + \", \" + str(i4) + \", \" + str(i5) + \", \" + str(i6) + \", \" + str(i7) + \", \" + str(i8) + \": \" + str(getIntervalInWhichAllAreNegative(y)))"
   ]
  }
 ],
 "metadata": {
  "kernelspec": {
   "display_name": "Python 3.9.13 64-bit (windows store)",
   "language": "python",
   "name": "python3"
  },
  "language_info": {
   "codemirror_mode": {
    "name": "ipython",
    "version": 3
   },
   "file_extension": ".py",
   "mimetype": "text/x-python",
   "name": "python",
   "nbconvert_exporter": "python",
   "pygments_lexer": "ipython3",
   "version": "3.9.13"
  },
  "vscode": {
   "interpreter": {
    "hash": "b2b4b3e20a59bbd542fb0c9d108ffad78ee7f3ee5b86844fb3b71a43ea545da1"
   }
  }
 },
 "nbformat": 4,
 "nbformat_minor": 4
}
