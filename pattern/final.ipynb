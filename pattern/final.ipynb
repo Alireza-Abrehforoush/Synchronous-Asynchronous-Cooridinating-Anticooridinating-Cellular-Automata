{
 "cells": [
  {
   "cell_type": "code",
   "execution_count": 1,
   "metadata": {},
   "outputs": [],
   "source": [
    "import numpy as np\n",
    "import sympy as sp"
   ]
  },
  {
   "cell_type": "code",
   "execution_count": 2,
   "metadata": {},
   "outputs": [],
   "source": [
    "# function to calculate number of occurrence of a pattern in a sub-config including overlapping ones and circular occurrences\n",
    "def countOccurrencesCircular(string, substring):\n",
    "    cnt = 0\n",
    "    x = string + string\n",
    "    m = len(substring)\n",
    "    for i in range(len(string)):\n",
    "        if substring == x[i: i + m]:\n",
    "            cnt += 1\n",
    "    return cnt\n"
   ]
  },
  {
   "cell_type": "code",
   "execution_count": 3,
   "metadata": {},
   "outputs": [],
   "source": [
    "# function to calculate number of occurrence of a pattern in a sub-config including overlapping ones\n",
    "def countOccurrences(sub, string):\n",
    "    count = start = 0\n",
    "    while True:\n",
    "        start = string.find(sub, start) + 1\n",
    "        if start > 0:\n",
    "            count+=1\n",
    "        else:\n",
    "            return count\n"
   ]
  },
  {
   "cell_type": "code",
   "execution_count": 4,
   "metadata": {},
   "outputs": [],
   "source": [
    "# function to calculate probability of conversion of sub-config A to B\n",
    "def calcProp(A, B):\n",
    "    a = len(A)\n",
    "    b = len(B)\n",
    "    if (a != b or A[0] != B[0] or A[a - 1] != B[b - 1]):\n",
    "        return 0\n",
    "    r, p = sp.symbols(\"r p\")\n",
    "    r = 1\n",
    "    for i in range(1, a - 1):    # ignoring first and last cell\n",
    "        if (A[i] == B[i]):    # must remain on its strategy\n",
    "            if (A[i - 1] == A[i] or A[i] == A[i + 1]):    # checking if the ith cell can flip\n",
    "                r *= (1 - p)\n",
    "            else:\n",
    "                r *= 1\n",
    "        else:\n",
    "            if (A[i - 1] == A[i] or A[i] == A[i + 1]):\n",
    "                r *= p\n",
    "            else:\n",
    "                return 0\n",
    "    return r\n"
   ]
  },
  {
   "cell_type": "code",
   "execution_count": 5,
   "metadata": {},
   "outputs": [],
   "source": [
    "def generateAllBinaryStrings(length):\n",
    "    arr = [\"\"] * 2 ** length\n",
    "    form = '#0' + str(length + 2) + 'b'\n",
    "    for i in range(2 ** length):\n",
    "        arr[i] = format(i, form)[2:]\n",
    "    return np.array(arr)\n"
   ]
  },
  {
   "cell_type": "code",
   "execution_count": 6,
   "metadata": {},
   "outputs": [],
   "source": [
    "# function to calculate the expected difference of number of a list of patterns in a sub-config\n",
    "def calcExpectedDifference(patterns, sub_config):\n",
    "    k = len(sub_config) - 2\n",
    "    n = 2 ** k\n",
    "    binary_strings = generateAllBinaryStrings(k)\n",
    "    number_of_patterns = patterns.shape[0]\n",
    "    expected_differences = [0] * number_of_patterns\n",
    "    for j in range(number_of_patterns):\n",
    "        #\n",
    "        total_expectation = 0\n",
    "        current_number_of_occurrence = countOccurrences(patterns[j], sub_config[1:-1])\n",
    "        for i in range(n):\n",
    "            total_expectation += calcProp(sub_config, sub_config[0] + binary_strings[i] + sub_config[-1]) * (countOccurrences(patterns[j], binary_strings[i]) - current_number_of_occurrence)\n",
    "        #\n",
    "        expected_differences[j] = total_expectation\n",
    "    return np.array(expected_differences)\n"
   ]
  },
  {
   "cell_type": "code",
   "execution_count": 7,
   "metadata": {},
   "outputs": [],
   "source": [
    "#\n",
    "def getAllDifferencesOnExpectationWithGivenPatterns(patterns):\n",
    "    pattern_max_length = 0\n",
    "    m = patterns.shape[0]\n",
    "    #check if all patterns have same length\n",
    "    for i in range(m):\n",
    "        if (len(patterns[i]) > pattern_max_length):\n",
    "            pattern_max_length = len(patterns[i])\n",
    "\n",
    "    # binary sub-config length should be equal with 2 * pattern_length + 1\n",
    "    k = 2 * pattern_max_length + 1\n",
    "    n = 2 ** k\n",
    "    binary_sub_configs = generateAllBinaryStrings(k)\n",
    "    diffs = [ [0] * m for i in range(n)]\n",
    "    for j in range(n):\n",
    "        expectations_of_current_sub_config = calcExpectedDifference(patterns, binary_sub_configs[j])\n",
    "        diffs[j] = expectations_of_current_sub_config\n",
    "    \n",
    "    return np.array(diffs).T\n"
   ]
  },
  {
   "cell_type": "code",
   "execution_count": 74,
   "metadata": {},
   "outputs": [],
   "source": [
    "def getIntervalInWhichAllAreNegative(expectations):\n",
    "    p = sp.symbols('p')\n",
    "    if expectations[0] != 0:\n",
    "        interval = sp.solvers.inequalities.solve_univariate_inequality(expectations[0] < 0, p)\n",
    "    for i in range(expectations.shape[0]):\n",
    "        if expectations[i] != 0:\n",
    "            beta = sp.solvers.inequalities.solve_univariate_inequality(expectations[i] < 0, p)\n",
    "            interval = sp.And(interval, beta)\n",
    "            interval = sp.simplify(interval)\n",
    "            if interval == sp.false:\n",
    "                return sp.false\n",
    "    return interval"
   ]
  },
  {
   "cell_type": "code",
   "execution_count": 77,
   "metadata": {},
   "outputs": [
    {
     "name": "stdout",
     "output_type": "stream",
     "text": [
      "1, -10, 1: False\n",
      "1, -10, 2: False\n",
      "1, -10, 3: False\n",
      "1, -10, 4: False\n",
      "1, -10, 5: False\n",
      "1, -10, 6: False\n",
      "1, -10, 7: False\n",
      "1, -10, 8: False\n",
      "1, -10, 9: False\n",
      "1, -10, 10: False\n",
      "1, -9, 1: False\n",
      "1, -9, 2: False\n",
      "1, -9, 3: False\n",
      "1, -9, 4: False\n",
      "1, -9, 5: False\n",
      "1, -9, 6: False\n",
      "1, -9, 7: False\n",
      "1, -9, 8: False\n",
      "1, -9, 9: False\n",
      "1, -9, 10: False\n",
      "1, -8, 1: False\n",
      "1, -8, 2: False\n",
      "1, -8, 3: False\n",
      "1, -8, 4: False\n",
      "1, -8, 5: False\n",
      "1, -8, 6: False\n",
      "1, -8, 7: False\n",
      "1, -8, 8: False\n",
      "1, -8, 9: False\n",
      "1, -8, 10: False\n",
      "1, -7, 1: False\n",
      "1, -7, 2: False\n",
      "1, -7, 3: False\n",
      "1, -7, 4: False\n",
      "1, -7, 5: False\n",
      "1, -7, 6: False\n",
      "1, -7, 7: False\n",
      "1, -7, 8: False\n",
      "1, -7, 9: False\n",
      "1, -7, 10: False\n",
      "1, -6, 1: False\n",
      "1, -6, 2: False\n",
      "1, -6, 3: False\n",
      "1, -6, 4: False\n",
      "1, -6, 5: False\n",
      "1, -6, 6: False\n",
      "1, -6, 7: False\n",
      "1, -6, 8: False\n",
      "1, -6, 9: False\n",
      "1, -6, 10: False\n",
      "1, -5, 1: False\n",
      "1, -5, 2: False\n",
      "1, -5, 3: False\n",
      "1, -5, 4: False\n",
      "1, -5, 5: False\n",
      "1, -5, 6: False\n",
      "1, -5, 7: False\n",
      "1, -5, 8: False\n",
      "1, -5, 9: False\n",
      "1, -5, 10: False\n",
      "1, -4, 1: False\n",
      "1, -4, 2: False\n",
      "1, -4, 3: False\n",
      "1, -4, 4: False\n",
      "1, -4, 5: False\n",
      "1, -4, 6: False\n",
      "1, -4, 7: False\n",
      "1, -4, 8: False\n",
      "1, -4, 9: False\n",
      "1, -4, 10: False\n",
      "1, -3, 1: False\n",
      "1, -3, 2: False\n",
      "1, -3, 3: False\n",
      "1, -3, 4: False\n",
      "1, -3, 5: False\n",
      "1, -3, 6: False\n",
      "1, -3, 7: False\n",
      "1, -3, 8: False\n",
      "1, -3, 9: False\n",
      "1, -3, 10: False\n",
      "1, -2, 1: False\n",
      "1, -2, 2: False\n",
      "1, -2, 3: False\n",
      "1, -2, 4: False\n",
      "1, -2, 5: False\n",
      "1, -2, 6: False\n",
      "1, -2, 7: False\n",
      "1, -2, 8: False\n",
      "1, -2, 9: False\n",
      "1, -2, 10: False\n",
      "1, -1, 1: False\n",
      "1, -1, 2: False\n",
      "1, -1, 3: False\n"
     ]
    },
    {
     "ename": "KeyboardInterrupt",
     "evalue": "",
     "output_type": "error",
     "traceback": [
      "\u001b[1;31m---------------------------------------------------------------------------\u001b[0m",
      "\u001b[1;31mKeyboardInterrupt\u001b[0m                         Traceback (most recent call last)",
      "\u001b[1;32m<ipython-input-77-0c5cf7ae3d6d>\u001b[0m in \u001b[0;36m<module>\u001b[1;34m\u001b[0m\n\u001b[0;32m      5\u001b[0m         \u001b[1;32mfor\u001b[0m \u001b[0mk\u001b[0m \u001b[1;32min\u001b[0m \u001b[0mrange\u001b[0m\u001b[1;33m(\u001b[0m\u001b[1;36m1\u001b[0m\u001b[1;33m,\u001b[0m \u001b[1;36m11\u001b[0m\u001b[1;33m)\u001b[0m\u001b[1;33m:\u001b[0m\u001b[1;33m\u001b[0m\u001b[1;33m\u001b[0m\u001b[0m\n\u001b[0;32m      6\u001b[0m             \u001b[0my\u001b[0m \u001b[1;33m=\u001b[0m \u001b[0mnp\u001b[0m\u001b[1;33m.\u001b[0m\u001b[0mdot\u001b[0m\u001b[1;33m(\u001b[0m\u001b[0mnp\u001b[0m\u001b[1;33m.\u001b[0m\u001b[0marray\u001b[0m\u001b[1;33m(\u001b[0m\u001b[1;33m[\u001b[0m\u001b[1;36m4\u001b[0m\u001b[1;33m,\u001b[0m \u001b[1;33m-\u001b[0m\u001b[1;36m4\u001b[0m\u001b[1;33m,\u001b[0m \u001b[1;33m-\u001b[0m\u001b[1;36m4\u001b[0m\u001b[1;33m,\u001b[0m \u001b[1;36m4\u001b[0m\u001b[1;33m,\u001b[0m \u001b[1;36m8\u001b[0m\u001b[1;33m,\u001b[0m \u001b[1;36m5\u001b[0m\u001b[1;33m,\u001b[0m \u001b[1;33m-\u001b[0m\u001b[1;36m8\u001b[0m\u001b[1;33m,\u001b[0m \u001b[1;36m5\u001b[0m\u001b[1;33m,\u001b[0m \u001b[1;36m5\u001b[0m\u001b[1;33m,\u001b[0m \u001b[1;33m-\u001b[0m\u001b[1;36m8\u001b[0m\u001b[1;33m,\u001b[0m \u001b[1;36m5\u001b[0m\u001b[1;33m,\u001b[0m \u001b[1;36m8\u001b[0m\u001b[1;33m]\u001b[0m\u001b[1;33m)\u001b[0m\u001b[1;33m,\u001b[0m \u001b[0mx\u001b[0m\u001b[1;33m)\u001b[0m\u001b[1;33m\u001b[0m\u001b[1;33m\u001b[0m\u001b[0m\n\u001b[1;32m----> 7\u001b[1;33m             \u001b[0mprint\u001b[0m\u001b[1;33m(\u001b[0m\u001b[0mstr\u001b[0m\u001b[1;33m(\u001b[0m\u001b[0mi\u001b[0m\u001b[1;33m)\u001b[0m \u001b[1;33m+\u001b[0m \u001b[1;34m\", \"\u001b[0m \u001b[1;33m+\u001b[0m \u001b[0mstr\u001b[0m\u001b[1;33m(\u001b[0m\u001b[0mj\u001b[0m\u001b[1;33m)\u001b[0m \u001b[1;33m+\u001b[0m \u001b[1;34m\", \"\u001b[0m \u001b[1;33m+\u001b[0m \u001b[0mstr\u001b[0m\u001b[1;33m(\u001b[0m\u001b[0mk\u001b[0m\u001b[1;33m)\u001b[0m \u001b[1;33m+\u001b[0m \u001b[1;34m\": \"\u001b[0m \u001b[1;33m+\u001b[0m \u001b[0mstr\u001b[0m\u001b[1;33m(\u001b[0m\u001b[0mgetIntervalInWhichAllAreNegative\u001b[0m\u001b[1;33m(\u001b[0m\u001b[0my\u001b[0m\u001b[1;33m)\u001b[0m\u001b[1;33m)\u001b[0m\u001b[1;33m)\u001b[0m\u001b[1;33m\u001b[0m\u001b[1;33m\u001b[0m\u001b[0m\n\u001b[0m",
      "\u001b[1;32m<ipython-input-74-65cc67a0f54b>\u001b[0m in \u001b[0;36mgetIntervalInWhichAllAreNegative\u001b[1;34m(expectations)\u001b[0m\n\u001b[0;32m      5\u001b[0m     \u001b[1;32mfor\u001b[0m \u001b[0mi\u001b[0m \u001b[1;32min\u001b[0m \u001b[0mrange\u001b[0m\u001b[1;33m(\u001b[0m\u001b[0mexpectations\u001b[0m\u001b[1;33m.\u001b[0m\u001b[0mshape\u001b[0m\u001b[1;33m[\u001b[0m\u001b[1;36m0\u001b[0m\u001b[1;33m]\u001b[0m\u001b[1;33m)\u001b[0m\u001b[1;33m:\u001b[0m\u001b[1;33m\u001b[0m\u001b[1;33m\u001b[0m\u001b[0m\n\u001b[0;32m      6\u001b[0m         \u001b[1;32mif\u001b[0m \u001b[0mexpectations\u001b[0m\u001b[1;33m[\u001b[0m\u001b[0mi\u001b[0m\u001b[1;33m]\u001b[0m \u001b[1;33m!=\u001b[0m \u001b[1;36m0\u001b[0m\u001b[1;33m:\u001b[0m\u001b[1;33m\u001b[0m\u001b[1;33m\u001b[0m\u001b[0m\n\u001b[1;32m----> 7\u001b[1;33m             \u001b[0mbeta\u001b[0m \u001b[1;33m=\u001b[0m \u001b[0msp\u001b[0m\u001b[1;33m.\u001b[0m\u001b[0msolvers\u001b[0m\u001b[1;33m.\u001b[0m\u001b[0minequalities\u001b[0m\u001b[1;33m.\u001b[0m\u001b[0msolve_univariate_inequality\u001b[0m\u001b[1;33m(\u001b[0m\u001b[0mexpectations\u001b[0m\u001b[1;33m[\u001b[0m\u001b[0mi\u001b[0m\u001b[1;33m]\u001b[0m \u001b[1;33m<\u001b[0m \u001b[1;36m0\u001b[0m\u001b[1;33m,\u001b[0m \u001b[0mp\u001b[0m\u001b[1;33m)\u001b[0m\u001b[1;33m\u001b[0m\u001b[1;33m\u001b[0m\u001b[0m\n\u001b[0m\u001b[0;32m      8\u001b[0m             \u001b[0minterval\u001b[0m \u001b[1;33m=\u001b[0m \u001b[0msp\u001b[0m\u001b[1;33m.\u001b[0m\u001b[0mAnd\u001b[0m\u001b[1;33m(\u001b[0m\u001b[0minterval\u001b[0m\u001b[1;33m,\u001b[0m \u001b[0mbeta\u001b[0m\u001b[1;33m)\u001b[0m\u001b[1;33m\u001b[0m\u001b[1;33m\u001b[0m\u001b[0m\n\u001b[0;32m      9\u001b[0m             \u001b[0minterval\u001b[0m \u001b[1;33m=\u001b[0m \u001b[0msp\u001b[0m\u001b[1;33m.\u001b[0m\u001b[0msimplify\u001b[0m\u001b[1;33m(\u001b[0m\u001b[0minterval\u001b[0m\u001b[1;33m)\u001b[0m\u001b[1;33m\u001b[0m\u001b[1;33m\u001b[0m\u001b[0m\n",
      "\u001b[1;32m~\\AppData\\Local\\Packages\\PythonSoftwareFoundation.Python.3.9_qbz5n2kfra8p0\\LocalCache\\local-packages\\Python39\\site-packages\\sympy\\solvers\\inequalities.py\u001b[0m in \u001b[0;36msolve_univariate_inequality\u001b[1;34m(expr, gen, relational, domain, continuous)\u001b[0m\n\u001b[0;32m    516\u001b[0m                 \u001b[1;31m# this might raise ValueError on its own\u001b[0m\u001b[1;33m\u001b[0m\u001b[1;33m\u001b[0m\u001b[0m\n\u001b[0;32m    517\u001b[0m                 \u001b[1;31m# or it might give None...\u001b[0m\u001b[1;33m\u001b[0m\u001b[1;33m\u001b[0m\u001b[0m\n\u001b[1;32m--> 518\u001b[1;33m                 \u001b[0msolns\u001b[0m \u001b[1;33m=\u001b[0m \u001b[0msolvify\u001b[0m\u001b[1;33m(\u001b[0m\u001b[0me\u001b[0m\u001b[1;33m,\u001b[0m \u001b[0mgen\u001b[0m\u001b[1;33m,\u001b[0m \u001b[0mdomain\u001b[0m\u001b[1;33m)\u001b[0m\u001b[1;33m\u001b[0m\u001b[1;33m\u001b[0m\u001b[0m\n\u001b[0m\u001b[0;32m    519\u001b[0m                 \u001b[1;32mif\u001b[0m \u001b[0msolns\u001b[0m \u001b[1;32mis\u001b[0m \u001b[1;32mNone\u001b[0m\u001b[1;33m:\u001b[0m\u001b[1;33m\u001b[0m\u001b[1;33m\u001b[0m\u001b[0m\n\u001b[0;32m    520\u001b[0m                     \u001b[1;31m# in which case we raise ValueError\u001b[0m\u001b[1;33m\u001b[0m\u001b[1;33m\u001b[0m\u001b[0m\n",
      "\u001b[1;32m~\\AppData\\Local\\Packages\\PythonSoftwareFoundation.Python.3.9_qbz5n2kfra8p0\\LocalCache\\local-packages\\Python39\\site-packages\\sympy\\solvers\\solveset.py\u001b[0m in \u001b[0;36msolvify\u001b[1;34m(f, symbol, domain)\u001b[0m\n\u001b[0;32m   2362\u001b[0m \u001b[1;33m\u001b[0m\u001b[0m\n\u001b[0;32m   2363\u001b[0m     \"\"\"\n\u001b[1;32m-> 2364\u001b[1;33m     \u001b[0msolution_set\u001b[0m \u001b[1;33m=\u001b[0m \u001b[0msolveset\u001b[0m\u001b[1;33m(\u001b[0m\u001b[0mf\u001b[0m\u001b[1;33m,\u001b[0m \u001b[0msymbol\u001b[0m\u001b[1;33m,\u001b[0m \u001b[0mdomain\u001b[0m\u001b[1;33m)\u001b[0m\u001b[1;33m\u001b[0m\u001b[1;33m\u001b[0m\u001b[0m\n\u001b[0m\u001b[0;32m   2365\u001b[0m     \u001b[0mresult\u001b[0m \u001b[1;33m=\u001b[0m \u001b[1;32mNone\u001b[0m\u001b[1;33m\u001b[0m\u001b[1;33m\u001b[0m\u001b[0m\n\u001b[0;32m   2366\u001b[0m     \u001b[1;32mif\u001b[0m \u001b[0msolution_set\u001b[0m \u001b[1;32mis\u001b[0m \u001b[0mS\u001b[0m\u001b[1;33m.\u001b[0m\u001b[0mEmptySet\u001b[0m\u001b[1;33m:\u001b[0m\u001b[1;33m\u001b[0m\u001b[1;33m\u001b[0m\u001b[0m\n",
      "\u001b[1;32m~\\AppData\\Local\\Packages\\PythonSoftwareFoundation.Python.3.9_qbz5n2kfra8p0\\LocalCache\\local-packages\\Python39\\site-packages\\sympy\\solvers\\solveset.py\u001b[0m in \u001b[0;36msolveset\u001b[1;34m(f, symbol, domain)\u001b[0m\n\u001b[0;32m   2228\u001b[0m \u001b[1;33m\u001b[0m\u001b[0m\n\u001b[0;32m   2229\u001b[0m     \u001b[1;31m# solveset should ignore assumptions on symbols\u001b[0m\u001b[1;33m\u001b[0m\u001b[1;33m\u001b[0m\u001b[0m\n\u001b[1;32m-> 2230\u001b[1;33m     \u001b[1;32mif\u001b[0m \u001b[0msymbol\u001b[0m \u001b[1;32mnot\u001b[0m \u001b[1;32min\u001b[0m \u001b[0m_rc\u001b[0m\u001b[1;33m:\u001b[0m\u001b[1;33m\u001b[0m\u001b[1;33m\u001b[0m\u001b[0m\n\u001b[0m\u001b[0;32m   2231\u001b[0m         \u001b[0mx\u001b[0m \u001b[1;33m=\u001b[0m \u001b[0m_rc\u001b[0m\u001b[1;33m[\u001b[0m\u001b[1;36m0\u001b[0m\u001b[1;33m]\u001b[0m \u001b[1;32mif\u001b[0m \u001b[0mdomain\u001b[0m\u001b[1;33m.\u001b[0m\u001b[0mis_subset\u001b[0m\u001b[1;33m(\u001b[0m\u001b[0mS\u001b[0m\u001b[1;33m.\u001b[0m\u001b[0mReals\u001b[0m\u001b[1;33m)\u001b[0m \u001b[1;32melse\u001b[0m \u001b[0m_rc\u001b[0m\u001b[1;33m[\u001b[0m\u001b[1;36m1\u001b[0m\u001b[1;33m]\u001b[0m\u001b[1;33m\u001b[0m\u001b[1;33m\u001b[0m\u001b[0m\n\u001b[0;32m   2232\u001b[0m         \u001b[0mrv\u001b[0m \u001b[1;33m=\u001b[0m \u001b[0msolveset\u001b[0m\u001b[1;33m(\u001b[0m\u001b[0mf\u001b[0m\u001b[1;33m.\u001b[0m\u001b[0mxreplace\u001b[0m\u001b[1;33m(\u001b[0m\u001b[1;33m{\u001b[0m\u001b[0msymbol\u001b[0m\u001b[1;33m:\u001b[0m \u001b[0mx\u001b[0m\u001b[1;33m}\u001b[0m\u001b[1;33m)\u001b[0m\u001b[1;33m,\u001b[0m \u001b[0mx\u001b[0m\u001b[1;33m,\u001b[0m \u001b[0mdomain\u001b[0m\u001b[1;33m)\u001b[0m\u001b[1;33m\u001b[0m\u001b[1;33m\u001b[0m\u001b[0m\n",
      "\u001b[1;32m~\\AppData\\Local\\Packages\\PythonSoftwareFoundation.Python.3.9_qbz5n2kfra8p0\\LocalCache\\local-packages\\Python39\\site-packages\\sympy\\core\\basic.py\u001b[0m in \u001b[0;36m__eq__\u001b[1;34m(self, other)\u001b[0m\n\u001b[0;32m    379\u001b[0m                 type(self) != type(other)):\n\u001b[0;32m    380\u001b[0m             \u001b[1;32mreturn\u001b[0m \u001b[1;32mFalse\u001b[0m\u001b[1;33m\u001b[0m\u001b[1;33m\u001b[0m\u001b[0m\n\u001b[1;32m--> 381\u001b[1;33m         \u001b[0ma\u001b[0m\u001b[1;33m,\u001b[0m \u001b[0mb\u001b[0m \u001b[1;33m=\u001b[0m \u001b[0mself\u001b[0m\u001b[1;33m.\u001b[0m\u001b[0m_hashable_content\u001b[0m\u001b[1;33m(\u001b[0m\u001b[1;33m)\u001b[0m\u001b[1;33m,\u001b[0m \u001b[0mother\u001b[0m\u001b[1;33m.\u001b[0m\u001b[0m_hashable_content\u001b[0m\u001b[1;33m(\u001b[0m\u001b[1;33m)\u001b[0m\u001b[1;33m\u001b[0m\u001b[1;33m\u001b[0m\u001b[0m\n\u001b[0m\u001b[0;32m    382\u001b[0m         \u001b[1;32mif\u001b[0m \u001b[0ma\u001b[0m \u001b[1;33m!=\u001b[0m \u001b[0mb\u001b[0m\u001b[1;33m:\u001b[0m\u001b[1;33m\u001b[0m\u001b[1;33m\u001b[0m\u001b[0m\n\u001b[0;32m    383\u001b[0m             \u001b[1;32mreturn\u001b[0m \u001b[1;32mFalse\u001b[0m\u001b[1;33m\u001b[0m\u001b[1;33m\u001b[0m\u001b[0m\n",
      "\u001b[1;32m~\\AppData\\Local\\Packages\\PythonSoftwareFoundation.Python.3.9_qbz5n2kfra8p0\\LocalCache\\local-packages\\Python39\\site-packages\\sympy\\core\\symbol.py\u001b[0m in \u001b[0;36m_hashable_content\u001b[1;34m(self)\u001b[0m\n\u001b[0;32m    451\u001b[0m \u001b[1;33m\u001b[0m\u001b[0m\n\u001b[0;32m    452\u001b[0m     \u001b[1;32mdef\u001b[0m \u001b[0m_hashable_content\u001b[0m\u001b[1;33m(\u001b[0m\u001b[0mself\u001b[0m\u001b[1;33m)\u001b[0m\u001b[1;33m:\u001b[0m\u001b[1;33m\u001b[0m\u001b[1;33m\u001b[0m\u001b[0m\n\u001b[1;32m--> 453\u001b[1;33m         \u001b[1;32mreturn\u001b[0m \u001b[0mSymbol\u001b[0m\u001b[1;33m.\u001b[0m\u001b[0m_hashable_content\u001b[0m\u001b[1;33m(\u001b[0m\u001b[0mself\u001b[0m\u001b[1;33m)\u001b[0m \u001b[1;33m+\u001b[0m \u001b[1;33m(\u001b[0m\u001b[0mself\u001b[0m\u001b[1;33m.\u001b[0m\u001b[0mdummy_index\u001b[0m\u001b[1;33m,\u001b[0m\u001b[1;33m)\u001b[0m\u001b[1;33m\u001b[0m\u001b[1;33m\u001b[0m\u001b[0m\n\u001b[0m\u001b[0;32m    454\u001b[0m \u001b[1;33m\u001b[0m\u001b[0m\n\u001b[0;32m    455\u001b[0m \u001b[1;33m\u001b[0m\u001b[0m\n",
      "\u001b[1;32m~\\AppData\\Local\\Packages\\PythonSoftwareFoundation.Python.3.9_qbz5n2kfra8p0\\LocalCache\\local-packages\\Python39\\site-packages\\sympy\\core\\symbol.py\u001b[0m in \u001b[0;36m_hashable_content\u001b[1;34m(self)\u001b[0m\n\u001b[0;32m    340\u001b[0m     \u001b[1;32mdef\u001b[0m \u001b[0m_hashable_content\u001b[0m\u001b[1;33m(\u001b[0m\u001b[0mself\u001b[0m\u001b[1;33m)\u001b[0m\u001b[1;33m:\u001b[0m\u001b[1;33m\u001b[0m\u001b[1;33m\u001b[0m\u001b[0m\n\u001b[0;32m    341\u001b[0m         \u001b[1;31m# Note: user-specified assumptions not hashed, just derived ones\u001b[0m\u001b[1;33m\u001b[0m\u001b[1;33m\u001b[0m\u001b[0m\n\u001b[1;32m--> 342\u001b[1;33m         \u001b[1;32mreturn\u001b[0m \u001b[1;33m(\u001b[0m\u001b[0mself\u001b[0m\u001b[1;33m.\u001b[0m\u001b[0mname\u001b[0m\u001b[1;33m,\u001b[0m\u001b[1;33m)\u001b[0m \u001b[1;33m+\u001b[0m \u001b[0mtuple\u001b[0m\u001b[1;33m(\u001b[0m\u001b[0msorted\u001b[0m\u001b[1;33m(\u001b[0m\u001b[0mself\u001b[0m\u001b[1;33m.\u001b[0m\u001b[0massumptions0\u001b[0m\u001b[1;33m.\u001b[0m\u001b[0mitems\u001b[0m\u001b[1;33m(\u001b[0m\u001b[1;33m)\u001b[0m\u001b[1;33m)\u001b[0m\u001b[1;33m)\u001b[0m\u001b[1;33m\u001b[0m\u001b[1;33m\u001b[0m\u001b[0m\n\u001b[0m\u001b[0;32m    343\u001b[0m \u001b[1;33m\u001b[0m\u001b[0m\n\u001b[0;32m    344\u001b[0m     \u001b[1;32mdef\u001b[0m \u001b[0m_eval_subs\u001b[0m\u001b[1;33m(\u001b[0m\u001b[0mself\u001b[0m\u001b[1;33m,\u001b[0m \u001b[0mold\u001b[0m\u001b[1;33m,\u001b[0m \u001b[0mnew\u001b[0m\u001b[1;33m)\u001b[0m\u001b[1;33m:\u001b[0m\u001b[1;33m\u001b[0m\u001b[1;33m\u001b[0m\u001b[0m\n",
      "\u001b[1;32m~\\AppData\\Local\\Packages\\PythonSoftwareFoundation.Python.3.9_qbz5n2kfra8p0\\LocalCache\\local-packages\\Python39\\site-packages\\sympy\\core\\symbol.py\u001b[0m in \u001b[0;36massumptions0\u001b[1;34m(self)\u001b[0m\n\u001b[0;32m    352\u001b[0m     \u001b[1;33m@\u001b[0m\u001b[0mproperty\u001b[0m\u001b[1;33m\u001b[0m\u001b[1;33m\u001b[0m\u001b[0m\n\u001b[0;32m    353\u001b[0m     \u001b[1;32mdef\u001b[0m \u001b[0massumptions0\u001b[0m\u001b[1;33m(\u001b[0m\u001b[0mself\u001b[0m\u001b[1;33m)\u001b[0m\u001b[1;33m:\u001b[0m\u001b[1;33m\u001b[0m\u001b[1;33m\u001b[0m\u001b[0m\n\u001b[1;32m--> 354\u001b[1;33m         return {key: value for key, value\n\u001b[0m\u001b[0;32m    355\u001b[0m                 in self._assumptions.items() if value is not None}\n\u001b[0;32m    356\u001b[0m \u001b[1;33m\u001b[0m\u001b[0m\n",
      "\u001b[1;31mKeyboardInterrupt\u001b[0m: "
     ]
    }
   ],
   "source": [
    "pats = np.array([\"00\", \"01\", \"10\", \"11\", \"000\", \"001\", \"010\", \"011\", \"100\", \"101\", \"110\", \"111\"])\n",
    "x = getAllDifferencesOnExpectationWithGivenPatterns(pats)\n",
    "for i in range(1, 11):\n",
    "    for j in range(-10, 0):\n",
    "        for k in range(1, 11):\n",
    "            for l in range(1, 11):\n",
    "                y = np.dot(np.array([4, -4, -4, 4, 8, 5, -8, 5, 5, -8, 5, 8]), x)\n",
    "                print(str(i) + \", \" + str(j) + \", \" + str(k) + \": \" + str(getIntervalInWhichAllAreNegative(y)))"
   ]
  },
  {
   "cell_type": "code",
   "execution_count": null,
   "metadata": {},
   "outputs": [],
   "source": []
  }
 ],
 "metadata": {
  "kernelspec": {
   "display_name": "Python 3.9.13 64-bit (windows store)",
   "language": "python",
   "name": "python3"
  },
  "language_info": {
   "codemirror_mode": {
    "name": "ipython",
    "version": 3
   },
   "file_extension": ".py",
   "mimetype": "text/x-python",
   "name": "python",
   "nbconvert_exporter": "python",
   "pygments_lexer": "ipython3",
   "version": "3.9.13"
  },
  "vscode": {
   "interpreter": {
    "hash": "b2b4b3e20a59bbd542fb0c9d108ffad78ee7f3ee5b86844fb3b71a43ea545da1"
   }
  }
 },
 "nbformat": 4,
 "nbformat_minor": 4
}
